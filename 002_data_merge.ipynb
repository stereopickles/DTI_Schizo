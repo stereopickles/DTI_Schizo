{
 "cells": [
  {
   "cell_type": "markdown",
   "metadata": {},
   "source": [
    "# Data Merge\n",
    "This notebook describes steps to pull the stats from the txt files and combine them to create the final data structure."
   ]
  },
  {
   "cell_type": "code",
   "execution_count": 77,
   "metadata": {},
   "outputs": [],
   "source": [
    "import pandas as pd\n",
    "import numpy as np\n",
    "import matplotlib.pyplot as plt\n",
    "import seaborn as sns\n",
    "%matplotlib inline\n",
    "\n",
    "import os\n",
    "import re\n",
    "from collections import OrderedDict\n",
    "from datetime import datetime"
   ]
  },
  {
   "cell_type": "markdown",
   "metadata": {},
   "source": [
    "### Location Path\n",
    "Define the location of files here."
   ]
  },
  {
   "cell_type": "code",
   "execution_count": 78,
   "metadata": {},
   "outputs": [],
   "source": [
    "DATA_PATH = '/Users/stereopickles/CU_Google_Drive/COLUMBIA/DSI-Schizo/Data2020/DATA040320'\n",
    "HC_PATH = f\"{DATA_PATH}/HC/COBRE_prep/HC_Stats\"\n",
    "SZ_PATH = f\"{DATA_PATH}/SZ/COBRE_prep/SZ_Stats\"\n",
    "HC_FAT_DTI_PATH = f'{HC_PATH}/FAT'\n",
    "SZ_FAT_DTI_PATH = f'{SZ_PATH}/FAT'\n",
    "HC_UF_DTI_PATH = f'{HC_PATH}/UF'\n",
    "SZ_UF_DTI_PATH = f'{SZ_PATH}/UF'"
   ]
  },
  {
   "cell_type": "code",
   "execution_count": 79,
   "metadata": {},
   "outputs": [],
   "source": [
    "TRACTS = ['FAT', 'UF']\n",
    "CONDS = ['SZ', 'HC']"
   ]
  },
  {
   "cell_type": "code",
   "execution_count": 80,
   "metadata": {},
   "outputs": [],
   "source": [
    "# full subject lists\n",
    "\n",
    "with open(f'{DATA_PATH}/subject_list.txt', 'r') as f: \n",
    "    subjects = f.read()\n",
    "    \n",
    "subjects = [re.sub('A', '', x) for x in subjects.split('\\n')]"
   ]
  },
  {
   "cell_type": "markdown",
   "metadata": {},
   "source": [
    "### Extract stats \n",
    "The resulting table should look like \n",
    "| subnum | admin | condition | tract | datetime | side | track_count | voxel_count | mean_length | mean_FA_trk | mean_Ang | mean_FA | mean_AD | mean_MD | mean_RD | "
   ]
  },
  {
   "cell_type": "code",
   "execution_count": 81,
   "metadata": {},
   "outputs": [],
   "source": [
    "def find_num(str_):\n",
    "    return int(re.findall('(?<=: )([.0-9]*)', str_)[0])\n",
    "\n",
    "def find_mean_se(str_):\n",
    "    mean = float([x if x != 'nan' else 0 for x in re.findall('(?<=: )([na.0-9]*)', str_)][0])\n",
    "    se = float(re.findall('(?<=- )([.0-9]*)', str_)[0])\n",
    "    return mean, se\n",
    "\n",
    "def find_type(str_):\n",
    "    return re.findall('(?<=DTI_)([A-Z]*)', str_)[0]\n",
    "\n",
    "def find_year(str_):\n",
    "    return int(re.findall('(?<=ses-)([0-9]*)', str_)[0][:4])"
   ]
  },
  {
   "cell_type": "code",
   "execution_count": 135,
   "metadata": {},
   "outputs": [],
   "source": [
    "def extract_stats(list_, group = {'FAT', 'UF'}):\n",
    "    ''' From a list of lines extract information '''\n",
    "    result = {}\n",
    "    for i in range(0, len(list_), 12): # iterate every 12 lines\n",
    "        \n",
    "        # find tract groups\n",
    "        grp = re.findall('(?<=: )(.*)(?=\\\\n)', list_[i])[0]\n",
    "        trk_group = re.findall('(FAT|UF)', grp)[0]\n",
    "        \n",
    "        # find which hemisphere\n",
    "        side = grp[-1]\n",
    "        \n",
    "        if trk_group in group:\n",
    "            # get stats\n",
    "            trk_cnt = find_num(list_[i+1]) # track count\n",
    "            vxl_cnt = find_num(list_[i+2]) # voxel count\n",
    "            mean_length, se_length = find_mean_se(list_[i+4]) # mean length + se length\n",
    "            mean_fatrk, se_fatrk = find_mean_se(list_[i+5]) # mean fa track + se fa track\n",
    "            mean_angtrk, se_angtrk = find_mean_se(list_[i+6]) # mean ang track + se \n",
    "            yr_scan = find_year(list_[i+7]) # year scanned\n",
    "            stats = {}\n",
    "            \n",
    "            # AD, MD, RD, FA values\n",
    "            for j in range(7, 11): \n",
    "                stats[find_type(list_[i+j])] = find_mean_se(list_[i+j])\n",
    "            \n",
    "            # if all 4 are not there something's wrong\n",
    "            if len(stats) != 4: \n",
    "                print('not enough stats')\n",
    "            \n",
    "            # compile\n",
    "            info = {'track_count': trk_cnt, \n",
    "                    'voxel_count': vxl_cnt, \n",
    "                    'mean_length': mean_length, \n",
    "                    'se_length': se_length, \n",
    "                    'mean_fatrk': mean_fatrk, \n",
    "                    'se_fatrk': se_fatrk, \n",
    "                    'mean_angtrk': mean_angtrk, \n",
    "                    'se_angtrk': se_angtrk, \n",
    "                    'mean_AD': stats['AD'][0], \n",
    "                    'se_AD': stats['AD'][1], \n",
    "                    'mean_FA': stats['FA'][0], \n",
    "                    'se_FA': stats['FA'][1],\n",
    "                    'mean_MD': stats['MD'][0], \n",
    "                    'se_MD': stats['MD'][1],\n",
    "                    'mean_RD': stats['RD'][0], \n",
    "                    'se_RD': stats['RD'][1],\n",
    "                    'yr_scan': yr_scan\n",
    "                   }\n",
    "            \n",
    "            # log\n",
    "            if trk_group in result:\n",
    "                result[trk_group][side] = info\n",
    "            else:\n",
    "                result[trk_group] = {side: info}\n",
    "        else:\n",
    "            continue\n",
    "    return result"
   ]
  },
  {
   "cell_type": "code",
   "execution_count": 136,
   "metadata": {},
   "outputs": [],
   "source": [
    "df = pd.DataFrame(\n",
    "    columns = ['subnum', 'admin', 'condition', 'tract', 'datetime_extracted', 'side', 'note',\n",
    "               'track_count', 'voxel_count', 'mean_length', 'se_length',  'mean_fatrk',\n",
    "               'se_fatrk', 'mean_angtrk', 'se_angtrk', 'mean_AD', 'se_AD', 'mean_FA',\n",
    "               'se_FA', 'mean_MD', 'se_MD', 'mean_RD', 'se_RD', 'yr_scan'])"
   ]
  },
  {
   "cell_type": "code",
   "execution_count": 137,
   "metadata": {},
   "outputs": [],
   "source": [
    "def process_file(fp, fn, cnd, trs = {'FAT', 'UF'}, admin = None): \n",
    "    ''' \n",
    "    INPUT\n",
    "    =======\n",
    "    fp: file path\n",
    "    fn: file name \n",
    "    cnd: condition (SZ or HC)\n",
    "    trs: a set of tracts to include \n",
    "    admin: the name of admin (default: None)\n",
    "    \n",
    "    OUTPUT\n",
    "    =======\n",
    "    a nested list of stats in this order: \n",
    "    [[subnum, admin, cnd, tr, dt, side, note, {stats}], ...]\n",
    "\n",
    "    '''\n",
    "    \n",
    "    # check if the file exists\n",
    "    if os.path.exists(fp): \n",
    "        pass\n",
    "    else:\n",
    "        fp = fp[:-4]\n",
    "        if os.path.exists(fp): \n",
    "            pass\n",
    "        else:\n",
    "            print(f'The file does not exist: {fp}')\n",
    "        \n",
    "\n",
    "    # get modified time\n",
    "    dt = os.path.getmtime(fp)\n",
    "    dt = datetime.fromtimestamp(dt).strftime('%Y-%m-%d %H:%M:%S')\n",
    "\n",
    "    # get subject number and notes from the file name\n",
    "    subnum, note = re.findall('(?<=sub-A)([0-9]*)(.*)(?=.txt)', fn)[0]\n",
    "    print(f'{subnum}', end = '')\n",
    "\n",
    "    # open file and extract stats\n",
    "    with open(fp, 'r') as f: \n",
    "        line = f.readlines()\n",
    "        line = [re.sub('(?:(?<=FAT)|(?<=UF))_', '', x) for x in line]\n",
    "        info = extract_stats(line, group = trs)\n",
    "    \n",
    "    result = []\n",
    "    # if info is not empty, create a list\n",
    "    if info:\n",
    "        print('(o)', end = ' ')\n",
    "        for tr in trs: \n",
    "            for side in info[tr].keys():\n",
    "                # one entry per side X tracts\n",
    "                vals = []\n",
    "                for k in info[tr][side].keys():\n",
    "                    vals.append(info[tr][side][k])\n",
    "                full_list = [subnum, admin, cnd, tr, dt, side, note]\n",
    "                full_list.extend(vals)\n",
    "                result.append(full_list)\n",
    "\n",
    "    else:\n",
    "        print('(x)', end = ' ')\n",
    "\n",
    "    return result\n"
   ]
  },
  {
   "cell_type": "code",
   "execution_count": 138,
   "metadata": {},
   "outputs": [
    {
     "name": "stdout",
     "output_type": "stream",
     "text": [
      "SZ_FAT\n",
      "=======\n",
      "HW\n",
      "-------\n",
      "00024684(o) 00038441(o) 00035836(o) 00020787(o) 00014636(o) 00027969(o) 00019349(o) 00037854(o) 00024568(o) 00024959(o) 00023158(o) 00038624(o) 00037649(o) 00038172(o) 00023750(o) 00027537(o) 00028189(o) 00024228(o) 00028404(o) 00027119(o) 00035859(o) 00022500(o) 00024953(o) 00024198(o) 00035485(o) 00023243(o) 00037034(o) 00020602(o) 00027391(o) 00037619(o) 00027755(o) 00037224(o) 00023246(o) \n",
      "\n",
      "IR\n",
      "-------\n",
      "\n",
      "\n",
      "SS\n",
      "-------\n",
      "00018598(o) 00017147(o) 00000909(o) 00001243(o) 00020414(o) 00016720(o) 00018403(o) 00014804(o) 00016197(o) 00015518(o) 00001251(o) 00014175(o) 00018317(o) 00001452(o) 00000368(o) 00009280(o) 00015648(o) 00020416(o) 00016723(o) 00014607(o) 00000456(o) 00000838(o) 00014830(o) 00014719(o) 00018129(o) 00000541(o) 00018979(o) 00019293(o) \n",
      "\n",
      "HC_FAT\n",
      "=======\n",
      "HW\n",
      "-------\n",
      "00020805(o) 00025969(o) 00021058(o) 00013363(o) 00003150(o) 00021072(o) 00026907(o) 00018553(o) 00037007(o) 00014225(o) 00028052(o) 00024535(o) 00010684(o) 00022490(o) 00011265(o) 00004087(o) 00022727(o) 00014120(o) 00022653(o) 00010150(o) 00022509(o) 00015826(o) 00014898(o) 00012995(o) 00037495(o) 00022729(o) 00020895(o) 00011725(o) 00022773(o) 00013140(o) 00000300(o) 00022592(o) 00021085(o) 00013816(o) 00020984(o) 00019888(o) 00007409(o) 00021081(o) 00007409(o) 00024932(o) 00020968(o) 00022400(o) 00017294(o) \n",
      "\n",
      "IR\n",
      "-------\n",
      "\n",
      "\n",
      "SS\n",
      "-------\n",
      "00024955(o) 00024301(o) 00036916(o) 00023848(o) 00023131(o) 00024546(o) \n",
      "\n",
      "SZ_UF\n",
      "=======\n",
      "HW\n",
      "-------\n",
      "00024684(o) 00038441(o) 00035836(o) 00020787(o) 00014636(o) 00027969(o) 00019349(o) 00037854(o) 00024568(o) 00024959(o) 00023158(o) 00038624(o) 00037649(o) 00038172(o) 00023750(o) 00027537(o) 00028189(o) 00024228(o) 00028404(o) 00027119(o) 00035859(o) 00022500(o) 00024953(o) 00024198(o) 00035485(o) 00023243(o) 00037034(o) 00020602(o) 00027391(o) 00037619(o) 00027755(o) 00037224(o) 00023246(o) \n",
      "\n",
      "IR\n",
      "-------\n",
      "\n",
      "\n",
      "SS\n",
      "-------\n",
      "\n",
      "\n",
      "HC_UF\n",
      "=======\n",
      "HW\n",
      "-------\n",
      "00020805(o) 00025969(o) 00021058(o) 00013363(o) 00003150(o) 00021072(o) 00026907(o) 00018553(o) 00037007(o) 00014225(o) 00028052(o) 00024535(o) 00010684(o) 00022490(o) 00011265(o) 00037238(o) 00004087(o) 00022727(o) 00014120(o) 00022653(o) 00010150(o) 00022509(o) 00015826(o) 00014898(o) 00012995(o) 00037495(o) 00022729(o) 00020895(o) 00011725(o) 00022773(o) 00013140(o) 00000300(o) 00022592(o) 00021085(o) 00013816(o) 00020984(o) 00019888(o) 00007409(o) 00021081(o) 00026945(o) 00007409(o) 00024932(o) 00020968(o) 00022400(o) 00017294(o) \n",
      "\n",
      "IR\n",
      "-------\n",
      "\n",
      "\n",
      "SS\n",
      "-------\n",
      "\n",
      "\n"
     ]
    }
   ],
   "source": [
    "#i = 0\n",
    "for tr in TRACTS:\n",
    "    for cnd in CONDS: \n",
    "        path = f'{DATA_PATH}/{cnd}/COBRE_prep/{cnd}_Stats/{tr}'\n",
    "        print(f'{cnd}_{tr}', end = '\\n=======\\n')\n",
    "        \n",
    "        # get the names of directories within path\n",
    "        try:\n",
    "            sub_dirs = next(os.walk(path))[1]\n",
    "        except StopIteration: \n",
    "            print(\"Directory doesn't exist\")\n",
    "            break\n",
    "            \n",
    "        # each sub-dir should be the name of administrator\n",
    "        for admin in sub_dirs: \n",
    "            print(f'{admin}', end = '\\n-------\\n')\n",
    "            \n",
    "            # get the list of files (must start with 'sub')\n",
    "            files = [x for x in os.listdir(os.path.join(path, admin)) if x.startswith('sub')]\n",
    "            \n",
    "            # add extension if it doesn't have one\n",
    "            files = [f if f.endswith('.txt') else f + '.txt' for f in files]\n",
    "            \n",
    "            for fn in files:\n",
    "                \n",
    "                fp = os.path.join(path, admin, fn)\n",
    "                result = process_file(fp, fn, cnd, trs = {tr}, admin = admin) \n",
    "                \n",
    "                for x in result: \n",
    "                    df.loc[len(df)+1] = x\n",
    "                \n",
    "            print('\\n')"
   ]
  },
  {
   "cell_type": "code",
   "execution_count": 139,
   "metadata": {},
   "outputs": [
    {
     "data": {
      "text/html": [
       "<div>\n",
       "<style scoped>\n",
       "    .dataframe tbody tr th:only-of-type {\n",
       "        vertical-align: middle;\n",
       "    }\n",
       "\n",
       "    .dataframe tbody tr th {\n",
       "        vertical-align: top;\n",
       "    }\n",
       "\n",
       "    .dataframe thead th {\n",
       "        text-align: right;\n",
       "    }\n",
       "</style>\n",
       "<table border=\"1\" class=\"dataframe\">\n",
       "  <thead>\n",
       "    <tr style=\"text-align: right;\">\n",
       "      <th></th>\n",
       "      <th>subnum</th>\n",
       "      <th>admin</th>\n",
       "      <th>condition</th>\n",
       "      <th>tract</th>\n",
       "      <th>datetime_extracted</th>\n",
       "      <th>side</th>\n",
       "      <th>note</th>\n",
       "      <th>track_count</th>\n",
       "      <th>voxel_count</th>\n",
       "      <th>mean_length</th>\n",
       "      <th>...</th>\n",
       "      <th>se_angtrk</th>\n",
       "      <th>mean_AD</th>\n",
       "      <th>se_AD</th>\n",
       "      <th>mean_FA</th>\n",
       "      <th>se_FA</th>\n",
       "      <th>mean_MD</th>\n",
       "      <th>se_MD</th>\n",
       "      <th>mean_RD</th>\n",
       "      <th>se_RD</th>\n",
       "      <th>yr_scan</th>\n",
       "    </tr>\n",
       "  </thead>\n",
       "  <tbody>\n",
       "    <tr>\n",
       "      <th>20</th>\n",
       "      <td>00024959</td>\n",
       "      <td>HW</td>\n",
       "      <td>SZ</td>\n",
       "      <td>FAT</td>\n",
       "      <td>2020-11-24 02:27:58</td>\n",
       "      <td>R</td>\n",
       "      <td></td>\n",
       "      <td>160</td>\n",
       "      <td>677</td>\n",
       "      <td>75.1438</td>\n",
       "      <td>...</td>\n",
       "      <td>4.5760</td>\n",
       "      <td>1.1001</td>\n",
       "      <td>0.1945</td>\n",
       "      <td>0.4448</td>\n",
       "      <td>0.1285</td>\n",
       "      <td>0.7333</td>\n",
       "      <td>0.1395</td>\n",
       "      <td>0.5499</td>\n",
       "      <td>0.1539</td>\n",
       "      <td>2009</td>\n",
       "    </tr>\n",
       "    <tr>\n",
       "      <th>187</th>\n",
       "      <td>00021085</td>\n",
       "      <td>HW</td>\n",
       "      <td>HC</td>\n",
       "      <td>FAT</td>\n",
       "      <td>2020-12-22 14:59:10</td>\n",
       "      <td>L</td>\n",
       "      <td></td>\n",
       "      <td>170</td>\n",
       "      <td>539</td>\n",
       "      <td>68.8765</td>\n",
       "      <td>...</td>\n",
       "      <td>4.5170</td>\n",
       "      <td>1.1779</td>\n",
       "      <td>0.1760</td>\n",
       "      <td>0.4791</td>\n",
       "      <td>0.1446</td>\n",
       "      <td>0.7508</td>\n",
       "      <td>0.0809</td>\n",
       "      <td>0.5373</td>\n",
       "      <td>0.1176</td>\n",
       "      <td>2010</td>\n",
       "    </tr>\n",
       "    <tr>\n",
       "      <th>252</th>\n",
       "      <td>00027537</td>\n",
       "      <td>HW</td>\n",
       "      <td>SZ</td>\n",
       "      <td>UF</td>\n",
       "      <td>2020-11-24 02:42:02</td>\n",
       "      <td>R</td>\n",
       "      <td></td>\n",
       "      <td>463</td>\n",
       "      <td>1474</td>\n",
       "      <td>99.4363</td>\n",
       "      <td>...</td>\n",
       "      <td>4.4150</td>\n",
       "      <td>1.2241</td>\n",
       "      <td>0.1606</td>\n",
       "      <td>0.4091</td>\n",
       "      <td>0.1291</td>\n",
       "      <td>0.8308</td>\n",
       "      <td>0.1072</td>\n",
       "      <td>0.6341</td>\n",
       "      <td>0.1365</td>\n",
       "      <td>2011</td>\n",
       "    </tr>\n",
       "    <tr>\n",
       "      <th>126</th>\n",
       "      <td>00025969</td>\n",
       "      <td>HW</td>\n",
       "      <td>HC</td>\n",
       "      <td>FAT</td>\n",
       "      <td>2021-01-03 14:11:00</td>\n",
       "      <td>R</td>\n",
       "      <td></td>\n",
       "      <td>220</td>\n",
       "      <td>806</td>\n",
       "      <td>78.0909</td>\n",
       "      <td>...</td>\n",
       "      <td>3.8977</td>\n",
       "      <td>1.1904</td>\n",
       "      <td>0.1747</td>\n",
       "      <td>0.4533</td>\n",
       "      <td>0.1404</td>\n",
       "      <td>0.7836</td>\n",
       "      <td>0.1055</td>\n",
       "      <td>0.5802</td>\n",
       "      <td>0.1392</td>\n",
       "      <td>2009</td>\n",
       "    </tr>\n",
       "    <tr>\n",
       "      <th>96</th>\n",
       "      <td>00000368</td>\n",
       "      <td>SS</td>\n",
       "      <td>SZ</td>\n",
       "      <td>FAT</td>\n",
       "      <td>2020-12-23 14:37:29</td>\n",
       "      <td>R</td>\n",
       "      <td></td>\n",
       "      <td>415</td>\n",
       "      <td>1123</td>\n",
       "      <td>70.4675</td>\n",
       "      <td>...</td>\n",
       "      <td>3.7681</td>\n",
       "      <td>1.1968</td>\n",
       "      <td>0.2068</td>\n",
       "      <td>0.4455</td>\n",
       "      <td>0.1227</td>\n",
       "      <td>0.7859</td>\n",
       "      <td>0.1304</td>\n",
       "      <td>0.5804</td>\n",
       "      <td>0.1360</td>\n",
       "      <td>2011</td>\n",
       "    </tr>\n",
       "  </tbody>\n",
       "</table>\n",
       "<p>5 rows × 24 columns</p>\n",
       "</div>"
      ],
      "text/plain": [
       "       subnum admin condition tract   datetime_extracted side note  \\\n",
       "20   00024959    HW        SZ   FAT  2020-11-24 02:27:58    R        \n",
       "187  00021085    HW        HC   FAT  2020-12-22 14:59:10    L        \n",
       "252  00027537    HW        SZ    UF  2020-11-24 02:42:02    R        \n",
       "126  00025969    HW        HC   FAT  2021-01-03 14:11:00    R        \n",
       "96   00000368    SS        SZ   FAT  2020-12-23 14:37:29    R        \n",
       "\n",
       "    track_count voxel_count  mean_length  ...  se_angtrk  mean_AD   se_AD  \\\n",
       "20          160         677      75.1438  ...     4.5760   1.1001  0.1945   \n",
       "187         170         539      68.8765  ...     4.5170   1.1779  0.1760   \n",
       "252         463        1474      99.4363  ...     4.4150   1.2241  0.1606   \n",
       "126         220         806      78.0909  ...     3.8977   1.1904  0.1747   \n",
       "96          415        1123      70.4675  ...     3.7681   1.1968  0.2068   \n",
       "\n",
       "     mean_FA   se_FA  mean_MD   se_MD  mean_RD   se_RD  yr_scan  \n",
       "20    0.4448  0.1285   0.7333  0.1395   0.5499  0.1539     2009  \n",
       "187   0.4791  0.1446   0.7508  0.0809   0.5373  0.1176     2010  \n",
       "252   0.4091  0.1291   0.8308  0.1072   0.6341  0.1365     2011  \n",
       "126   0.4533  0.1404   0.7836  0.1055   0.5802  0.1392     2009  \n",
       "96    0.4455  0.1227   0.7859  0.1304   0.5804  0.1360     2011  \n",
       "\n",
       "[5 rows x 24 columns]"
      ]
     },
     "execution_count": 139,
     "metadata": {},
     "output_type": "execute_result"
    }
   ],
   "source": [
    "df.sample(5)"
   ]
  },
  {
   "cell_type": "markdown",
   "metadata": {},
   "source": [
    "## Get Missing Entries from the ARCHIVE\n",
    "Since all entries have been reviewed, if it's missing above, it means the old file didn't need to be updated after the review.  \n",
    "So we'll pull the missing subject information from the archived stat files.\n"
   ]
  },
  {
   "cell_type": "code",
   "execution_count": 211,
   "metadata": {},
   "outputs": [],
   "source": [
    "missing_FAT = [x for x in subjects if x != '' and x not in df[df.tract == 'FAT'].subnum.unique()]\n",
    "missing_UF = [x for x in subjects if x != '' and x not in df[df.tract == 'UF'].subnum.unique()]"
   ]
  },
  {
   "cell_type": "code",
   "execution_count": 212,
   "metadata": {},
   "outputs": [],
   "source": [
    "ARCHIVE_HC = f'{DATA_PATH}/HC/COBRE_prep/HC_Stats/ARCHIVE_06_2020'\n",
    "ARCHIVE_SZ = f'{DATA_PATH}/SZ/COBRE_prep/SZ_Stats/ARCHIVE_06_2020'"
   ]
  },
  {
   "cell_type": "code",
   "execution_count": 213,
   "metadata": {},
   "outputs": [],
   "source": [
    "HC_lists = [x for x in os.listdir(ARCHIVE_HC) if x.startswith('sub')]\n",
    "SZ_lists = [x for x in os.listdir(ARCHIVE_SZ) if x.startswith('sub')]"
   ]
  },
  {
   "cell_type": "code",
   "execution_count": 214,
   "metadata": {},
   "outputs": [],
   "source": [
    "HC_subjects = {re.findall('(?<=A)[0-9]*', x)[0]: f\"{ARCHIVE_HC}/{x}\" for x in HC_lists}\n",
    "SZ_subjects = {re.findall('(?<=A)[0-9]*', x)[0]: f\"{ARCHIVE_SZ}/{x}\" for x in SZ_lists}"
   ]
  },
  {
   "cell_type": "code",
   "execution_count": 221,
   "metadata": {},
   "outputs": [
    {
     "name": "stdout",
     "output_type": "stream",
     "text": [
      "00037238(o) 00026945(o) 00036916(o) 00024955(o) 00024546(o) 00023848(o) 00024301(o) 00023131(o) 00018598(o) 00019293(o) 00020414(o) 00018317(o) 00015648(o) 00016197(o) 00014804(o) 00018403(o) 00014719(o) 00016720(o) 00016723(o) 00000838(o) 00000541(o) 00001452(o) 00001243(o) 00000456(o) 00018979(o) 00001251(o) 00020416(o) 00015518(o) 00018129(o) 00000909(o) 00014175(o) 00014607(o) 00017147(o) 00014830(o) 00009280(o) 00000368(o) "
     ]
    }
   ],
   "source": [
    "for tr in ['FAT', 'UF']: \n",
    "    \n",
    "    missing = tr == 'FAT' and missing_FAT or missing_UF\n",
    "        \n",
    "    for sub in missing: \n",
    "        for cnd in ['HC', 'SZ']:\n",
    "        \n",
    "            cond_dict = cnd == 'HC' and HC_subjects or SZ_subjects\n",
    "            \n",
    "            if sub in cond_dict: \n",
    "                fp = cond_dict[sub]\n",
    "                fn = fp.split('/')[-1]\n",
    "                result = process_file(fp, fn, cnd, trs = {tr}) \n",
    "\n",
    "                for x in result: \n",
    "                    df.loc[len(df)+1] = x                "
   ]
  },
  {
   "cell_type": "markdown",
   "metadata": {},
   "source": [
    "## Check for Duplicates\n",
    "let's check if there are only one entry per subnum x side. If there are more than one, let's confirm that numbers are the same. If numbers are the same, only leave one."
   ]
  },
  {
   "cell_type": "code",
   "execution_count": 140,
   "metadata": {},
   "outputs": [],
   "source": [
    "entry_counts = df.groupby(['subnum', 'tract', 'side']).subnum.count().unstack()"
   ]
  },
  {
   "cell_type": "code",
   "execution_count": 142,
   "metadata": {},
   "outputs": [],
   "source": [
    "dupes = list(entry_counts[(entry_counts.L > 1) | (entry_counts.R > 1) ].reset_index().subnum.values)"
   ]
  },
  {
   "cell_type": "code",
   "execution_count": 226,
   "metadata": {},
   "outputs": [],
   "source": [
    "tmp = df[df.subnum.isin(dupes)].sort_values(['subnum', 'side'])"
   ]
  },
  {
   "cell_type": "code",
   "execution_count": 322,
   "metadata": {},
   "outputs": [
    {
     "data": {
      "text/html": [
       "<div>\n",
       "<style scoped>\n",
       "    .dataframe tbody tr th:only-of-type {\n",
       "        vertical-align: middle;\n",
       "    }\n",
       "\n",
       "    .dataframe tbody tr th {\n",
       "        vertical-align: top;\n",
       "    }\n",
       "\n",
       "    .dataframe thead th {\n",
       "        text-align: right;\n",
       "    }\n",
       "</style>\n",
       "<table border=\"1\" class=\"dataframe\">\n",
       "  <thead>\n",
       "    <tr style=\"text-align: right;\">\n",
       "      <th></th>\n",
       "      <th>subnum</th>\n",
       "      <th>admin</th>\n",
       "      <th>condition</th>\n",
       "      <th>tract</th>\n",
       "      <th>datetime_extracted</th>\n",
       "    </tr>\n",
       "  </thead>\n",
       "  <tbody>\n",
       "    <tr>\n",
       "      <th>195</th>\n",
       "      <td>00007409</td>\n",
       "      <td>HW</td>\n",
       "      <td>HC</td>\n",
       "      <td>FAT</td>\n",
       "      <td>2020-11-23 21:40:52</td>\n",
       "    </tr>\n",
       "    <tr>\n",
       "      <th>199</th>\n",
       "      <td>00007409</td>\n",
       "      <td>HW</td>\n",
       "      <td>HC</td>\n",
       "      <td>FAT</td>\n",
       "      <td>2020-11-23 21:34:14</td>\n",
       "    </tr>\n",
       "    <tr>\n",
       "      <th>361</th>\n",
       "      <td>00007409</td>\n",
       "      <td>HW</td>\n",
       "      <td>HC</td>\n",
       "      <td>UF</td>\n",
       "      <td>2020-11-23 21:40:52</td>\n",
       "    </tr>\n",
       "    <tr>\n",
       "      <th>367</th>\n",
       "      <td>00007409</td>\n",
       "      <td>HW</td>\n",
       "      <td>HC</td>\n",
       "      <td>UF</td>\n",
       "      <td>2020-11-23 21:34:14</td>\n",
       "    </tr>\n",
       "    <tr>\n",
       "      <th>196</th>\n",
       "      <td>00007409</td>\n",
       "      <td>HW</td>\n",
       "      <td>HC</td>\n",
       "      <td>FAT</td>\n",
       "      <td>2020-11-23 21:40:52</td>\n",
       "    </tr>\n",
       "    <tr>\n",
       "      <th>200</th>\n",
       "      <td>00007409</td>\n",
       "      <td>HW</td>\n",
       "      <td>HC</td>\n",
       "      <td>FAT</td>\n",
       "      <td>2020-11-23 21:34:14</td>\n",
       "    </tr>\n",
       "    <tr>\n",
       "      <th>362</th>\n",
       "      <td>00007409</td>\n",
       "      <td>HW</td>\n",
       "      <td>HC</td>\n",
       "      <td>UF</td>\n",
       "      <td>2020-11-23 21:40:52</td>\n",
       "    </tr>\n",
       "    <tr>\n",
       "      <th>368</th>\n",
       "      <td>00007409</td>\n",
       "      <td>HW</td>\n",
       "      <td>HC</td>\n",
       "      <td>UF</td>\n",
       "      <td>2020-11-23 21:34:14</td>\n",
       "    </tr>\n",
       "  </tbody>\n",
       "</table>\n",
       "</div>"
      ],
      "text/plain": [
       "       subnum admin condition tract   datetime_extracted\n",
       "195  00007409    HW        HC   FAT  2020-11-23 21:40:52\n",
       "199  00007409    HW        HC   FAT  2020-11-23 21:34:14\n",
       "361  00007409    HW        HC    UF  2020-11-23 21:40:52\n",
       "367  00007409    HW        HC    UF  2020-11-23 21:34:14\n",
       "196  00007409    HW        HC   FAT  2020-11-23 21:40:52\n",
       "200  00007409    HW        HC   FAT  2020-11-23 21:34:14\n",
       "362  00007409    HW        HC    UF  2020-11-23 21:40:52\n",
       "368  00007409    HW        HC    UF  2020-11-23 21:34:14"
      ]
     },
     "execution_count": 322,
     "metadata": {},
     "output_type": "execute_result"
    }
   ],
   "source": [
    "tmp.iloc[:, 0:5]"
   ]
  },
  {
   "cell_type": "code",
   "execution_count": 250,
   "metadata": {},
   "outputs": [],
   "source": [
    "## Generate a report\n",
    "with open('duplicates.txt', 'w+') as f: \n",
    "    f.write(f\"Below subject has duplicate records.\\n\\n{tmp.iloc[:, 0:5]}\")"
   ]
  },
  {
   "cell_type": "code",
   "execution_count": null,
   "metadata": {},
   "outputs": [],
   "source": [
    "# TODO: fix the above"
   ]
  },
  {
   "cell_type": "markdown",
   "metadata": {},
   "source": [
    "#### Total Counts"
   ]
  },
  {
   "cell_type": "code",
   "execution_count": 245,
   "metadata": {},
   "outputs": [
    {
     "data": {
      "text/plain": [
       "condition  tract\n",
       "HC         FAT      69\n",
       "           UF       69\n",
       "SZ         FAT      61\n",
       "           UF       61\n",
       "Name: subnum, dtype: int64"
      ]
     },
     "execution_count": 245,
     "metadata": {},
     "output_type": "execute_result"
    }
   ],
   "source": [
    "df.groupby(['condition', 'tract']).subnum.nunique()"
   ]
  },
  {
   "cell_type": "markdown",
   "metadata": {},
   "source": [
    "## Add Notes \n",
    "Add review notes from analysis log"
   ]
  },
  {
   "cell_type": "code",
   "execution_count": 502,
   "metadata": {},
   "outputs": [],
   "source": [
    "alog = pd.read_csv('log/200114_analysis_log.csv')"
   ]
  },
  {
   "cell_type": "code",
   "execution_count": 503,
   "metadata": {},
   "outputs": [],
   "source": [
    "alog = alog[['sub', 'Nov 2020 - FAT comments', 'Nov 2020 - UF comments']].copy()\n",
    "alog.rename(columns = {'sub': 'subnum', 'Nov 2020 - FAT comments': 'FAT_note', 'Nov 2020 - UF comments': 'UF_note'}, inplace = True)\n",
    "alog.dropna(subset = ['subnum'], inplace = True)"
   ]
  },
  {
   "cell_type": "code",
   "execution_count": 505,
   "metadata": {},
   "outputs": [],
   "source": [
    "# drop A in subnum names\n",
    "alog.subnum = [x[1:] for x in alog.subnum]"
   ]
  },
  {
   "cell_type": "code",
   "execution_count": 512,
   "metadata": {},
   "outputs": [],
   "source": [
    "# separate out FAT / UF \n",
    "FAT_notes = alog[['subnum', 'FAT_note']].copy()\n",
    "FAT_notes.loc[:, 'tract'] = 'FAT'\n",
    "FAT_notes.rename(columns = {'FAT_note': 'note'}, inplace = True)\n",
    "UF_notes = alog[['subnum', 'UF_note']].copy()\n",
    "UF_notes.loc[:, 'tract'] = 'UF'\n",
    "UF_notes.rename(columns = {'UF_note': 'note'}, inplace = True)"
   ]
  },
  {
   "cell_type": "code",
   "execution_count": 514,
   "metadata": {},
   "outputs": [],
   "source": [
    "alog = pd.concat([FAT_notes, UF_notes])"
   ]
  },
  {
   "cell_type": "code",
   "execution_count": 517,
   "metadata": {},
   "outputs": [],
   "source": [
    "df = df.rename(columns = {'note': 'fn_note'})"
   ]
  },
  {
   "cell_type": "code",
   "execution_count": 521,
   "metadata": {},
   "outputs": [
    {
     "data": {
      "text/html": [
       "<div>\n",
       "<style scoped>\n",
       "    .dataframe tbody tr th:only-of-type {\n",
       "        vertical-align: middle;\n",
       "    }\n",
       "\n",
       "    .dataframe tbody tr th {\n",
       "        vertical-align: top;\n",
       "    }\n",
       "\n",
       "    .dataframe thead th {\n",
       "        text-align: right;\n",
       "    }\n",
       "</style>\n",
       "<table border=\"1\" class=\"dataframe\">\n",
       "  <thead>\n",
       "    <tr style=\"text-align: right;\">\n",
       "      <th></th>\n",
       "      <th>subnum</th>\n",
       "      <th>admin</th>\n",
       "      <th>condition</th>\n",
       "      <th>tract</th>\n",
       "      <th>datetime_extracted</th>\n",
       "      <th>side</th>\n",
       "      <th>fn_note</th>\n",
       "      <th>track_count</th>\n",
       "      <th>voxel_count</th>\n",
       "      <th>mean_length</th>\n",
       "      <th>...</th>\n",
       "      <th>mean_FA</th>\n",
       "      <th>se_FA</th>\n",
       "      <th>mean_MD</th>\n",
       "      <th>se_MD</th>\n",
       "      <th>mean_RD</th>\n",
       "      <th>se_RD</th>\n",
       "      <th>yr_scan</th>\n",
       "      <th>lateral_missing</th>\n",
       "      <th>missing</th>\n",
       "      <th>any_tract_missing</th>\n",
       "    </tr>\n",
       "  </thead>\n",
       "  <tbody>\n",
       "    <tr>\n",
       "      <th>1</th>\n",
       "      <td>00024684</td>\n",
       "      <td>HW</td>\n",
       "      <td>SZ</td>\n",
       "      <td>FAT</td>\n",
       "      <td>2020-11-24 02:20:18</td>\n",
       "      <td>L</td>\n",
       "      <td></td>\n",
       "      <td>515</td>\n",
       "      <td>1259</td>\n",
       "      <td>70.6583</td>\n",
       "      <td>...</td>\n",
       "      <td>0.4766</td>\n",
       "      <td>0.1420</td>\n",
       "      <td>0.7591</td>\n",
       "      <td>0.0903</td>\n",
       "      <td>0.5423</td>\n",
       "      <td>0.1271</td>\n",
       "      <td>2010</td>\n",
       "      <td>False</td>\n",
       "      <td>False</td>\n",
       "      <td>False</td>\n",
       "    </tr>\n",
       "    <tr>\n",
       "      <th>2</th>\n",
       "      <td>00024684</td>\n",
       "      <td>HW</td>\n",
       "      <td>SZ</td>\n",
       "      <td>FAT</td>\n",
       "      <td>2020-11-24 02:20:18</td>\n",
       "      <td>R</td>\n",
       "      <td></td>\n",
       "      <td>69</td>\n",
       "      <td>516</td>\n",
       "      <td>73.4203</td>\n",
       "      <td>...</td>\n",
       "      <td>0.4158</td>\n",
       "      <td>0.1430</td>\n",
       "      <td>0.7658</td>\n",
       "      <td>0.0925</td>\n",
       "      <td>0.5853</td>\n",
       "      <td>0.1278</td>\n",
       "      <td>2010</td>\n",
       "      <td>False</td>\n",
       "      <td>False</td>\n",
       "      <td>False</td>\n",
       "    </tr>\n",
       "    <tr>\n",
       "      <th>3</th>\n",
       "      <td>00038441</td>\n",
       "      <td>HW</td>\n",
       "      <td>SZ</td>\n",
       "      <td>FAT</td>\n",
       "      <td>2020-12-22 15:45:40</td>\n",
       "      <td>L</td>\n",
       "      <td></td>\n",
       "      <td>29</td>\n",
       "      <td>242</td>\n",
       "      <td>74.0345</td>\n",
       "      <td>...</td>\n",
       "      <td>0.3919</td>\n",
       "      <td>0.1476</td>\n",
       "      <td>0.7632</td>\n",
       "      <td>0.0925</td>\n",
       "      <td>0.5897</td>\n",
       "      <td>0.1236</td>\n",
       "      <td>2013</td>\n",
       "      <td>False</td>\n",
       "      <td>False</td>\n",
       "      <td>False</td>\n",
       "    </tr>\n",
       "    <tr>\n",
       "      <th>4</th>\n",
       "      <td>00038441</td>\n",
       "      <td>HW</td>\n",
       "      <td>SZ</td>\n",
       "      <td>FAT</td>\n",
       "      <td>2020-12-22 15:45:40</td>\n",
       "      <td>R</td>\n",
       "      <td></td>\n",
       "      <td>269</td>\n",
       "      <td>860</td>\n",
       "      <td>69.9628</td>\n",
       "      <td>...</td>\n",
       "      <td>0.4062</td>\n",
       "      <td>0.1360</td>\n",
       "      <td>0.7613</td>\n",
       "      <td>0.0825</td>\n",
       "      <td>0.5829</td>\n",
       "      <td>0.1068</td>\n",
       "      <td>2013</td>\n",
       "      <td>False</td>\n",
       "      <td>False</td>\n",
       "      <td>False</td>\n",
       "    </tr>\n",
       "    <tr>\n",
       "      <th>5</th>\n",
       "      <td>00035836</td>\n",
       "      <td>HW</td>\n",
       "      <td>SZ</td>\n",
       "      <td>FAT</td>\n",
       "      <td>2020-12-22 15:25:51</td>\n",
       "      <td>L</td>\n",
       "      <td></td>\n",
       "      <td>0</td>\n",
       "      <td>0</td>\n",
       "      <td>0.0000</td>\n",
       "      <td>...</td>\n",
       "      <td>0.0000</td>\n",
       "      <td>0.0000</td>\n",
       "      <td>0.0000</td>\n",
       "      <td>0.0000</td>\n",
       "      <td>0.0000</td>\n",
       "      <td>0.0000</td>\n",
       "      <td>2013</td>\n",
       "      <td>True</td>\n",
       "      <td>True</td>\n",
       "      <td>True</td>\n",
       "    </tr>\n",
       "    <tr>\n",
       "      <th>...</th>\n",
       "      <td>...</td>\n",
       "      <td>...</td>\n",
       "      <td>...</td>\n",
       "      <td>...</td>\n",
       "      <td>...</td>\n",
       "      <td>...</td>\n",
       "      <td>...</td>\n",
       "      <td>...</td>\n",
       "      <td>...</td>\n",
       "      <td>...</td>\n",
       "      <td>...</td>\n",
       "      <td>...</td>\n",
       "      <td>...</td>\n",
       "      <td>...</td>\n",
       "      <td>...</td>\n",
       "      <td>...</td>\n",
       "      <td>...</td>\n",
       "      <td>...</td>\n",
       "      <td>...</td>\n",
       "      <td>...</td>\n",
       "      <td>...</td>\n",
       "    </tr>\n",
       "    <tr>\n",
       "      <th>520</th>\n",
       "      <td>00014830</td>\n",
       "      <td>None</td>\n",
       "      <td>SZ</td>\n",
       "      <td>UF</td>\n",
       "      <td>2020-06-06 00:46:16</td>\n",
       "      <td>L</td>\n",
       "      <td></td>\n",
       "      <td>24</td>\n",
       "      <td>231</td>\n",
       "      <td>96.9583</td>\n",
       "      <td>...</td>\n",
       "      <td>0.4504</td>\n",
       "      <td>0.1427</td>\n",
       "      <td>0.7868</td>\n",
       "      <td>0.1262</td>\n",
       "      <td>0.5833</td>\n",
       "      <td>0.1485</td>\n",
       "      <td>2009</td>\n",
       "      <td>False</td>\n",
       "      <td>False</td>\n",
       "      <td>True</td>\n",
       "    </tr>\n",
       "    <tr>\n",
       "      <th>521</th>\n",
       "      <td>00009280</td>\n",
       "      <td>None</td>\n",
       "      <td>SZ</td>\n",
       "      <td>UF</td>\n",
       "      <td>2020-06-16 00:11:48</td>\n",
       "      <td>R</td>\n",
       "      <td></td>\n",
       "      <td>87</td>\n",
       "      <td>581</td>\n",
       "      <td>89.3793</td>\n",
       "      <td>...</td>\n",
       "      <td>0.4101</td>\n",
       "      <td>0.1125</td>\n",
       "      <td>0.7998</td>\n",
       "      <td>0.0799</td>\n",
       "      <td>0.6081</td>\n",
       "      <td>0.1020</td>\n",
       "      <td>2011</td>\n",
       "      <td>False</td>\n",
       "      <td>False</td>\n",
       "      <td>False</td>\n",
       "    </tr>\n",
       "    <tr>\n",
       "      <th>522</th>\n",
       "      <td>00009280</td>\n",
       "      <td>None</td>\n",
       "      <td>SZ</td>\n",
       "      <td>UF</td>\n",
       "      <td>2020-06-16 00:11:48</td>\n",
       "      <td>L</td>\n",
       "      <td></td>\n",
       "      <td>147</td>\n",
       "      <td>916</td>\n",
       "      <td>86.3741</td>\n",
       "      <td>...</td>\n",
       "      <td>0.4360</td>\n",
       "      <td>0.1478</td>\n",
       "      <td>0.7696</td>\n",
       "      <td>0.0963</td>\n",
       "      <td>0.5758</td>\n",
       "      <td>0.1371</td>\n",
       "      <td>2011</td>\n",
       "      <td>False</td>\n",
       "      <td>False</td>\n",
       "      <td>False</td>\n",
       "    </tr>\n",
       "    <tr>\n",
       "      <th>523</th>\n",
       "      <td>00000368</td>\n",
       "      <td>None</td>\n",
       "      <td>SZ</td>\n",
       "      <td>UF</td>\n",
       "      <td>2020-06-01 22:24:22</td>\n",
       "      <td>L</td>\n",
       "      <td>_ROI</td>\n",
       "      <td>35</td>\n",
       "      <td>337</td>\n",
       "      <td>78.6571</td>\n",
       "      <td>...</td>\n",
       "      <td>0.3481</td>\n",
       "      <td>0.1211</td>\n",
       "      <td>0.7859</td>\n",
       "      <td>0.1216</td>\n",
       "      <td>0.6368</td>\n",
       "      <td>0.1415</td>\n",
       "      <td>2011</td>\n",
       "      <td>False</td>\n",
       "      <td>False</td>\n",
       "      <td>False</td>\n",
       "    </tr>\n",
       "    <tr>\n",
       "      <th>524</th>\n",
       "      <td>00000368</td>\n",
       "      <td>None</td>\n",
       "      <td>SZ</td>\n",
       "      <td>UF</td>\n",
       "      <td>2020-06-01 22:24:22</td>\n",
       "      <td>R</td>\n",
       "      <td>_ROI</td>\n",
       "      <td>46</td>\n",
       "      <td>402</td>\n",
       "      <td>82.1087</td>\n",
       "      <td>...</td>\n",
       "      <td>0.3562</td>\n",
       "      <td>0.1132</td>\n",
       "      <td>0.8383</td>\n",
       "      <td>0.1472</td>\n",
       "      <td>0.6701</td>\n",
       "      <td>0.1477</td>\n",
       "      <td>2011</td>\n",
       "      <td>False</td>\n",
       "      <td>False</td>\n",
       "      <td>False</td>\n",
       "    </tr>\n",
       "  </tbody>\n",
       "</table>\n",
       "<p>524 rows × 27 columns</p>\n",
       "</div>"
      ],
      "text/plain": [
       "       subnum admin condition tract  datetime_extracted side fn_note  \\\n",
       "1    00024684    HW        SZ   FAT 2020-11-24 02:20:18    L           \n",
       "2    00024684    HW        SZ   FAT 2020-11-24 02:20:18    R           \n",
       "3    00038441    HW        SZ   FAT 2020-12-22 15:45:40    L           \n",
       "4    00038441    HW        SZ   FAT 2020-12-22 15:45:40    R           \n",
       "5    00035836    HW        SZ   FAT 2020-12-22 15:25:51    L           \n",
       "..        ...   ...       ...   ...                 ...  ...     ...   \n",
       "520  00014830  None        SZ    UF 2020-06-06 00:46:16    L           \n",
       "521  00009280  None        SZ    UF 2020-06-16 00:11:48    R           \n",
       "522  00009280  None        SZ    UF 2020-06-16 00:11:48    L           \n",
       "523  00000368  None        SZ    UF 2020-06-01 22:24:22    L    _ROI   \n",
       "524  00000368  None        SZ    UF 2020-06-01 22:24:22    R    _ROI   \n",
       "\n",
       "     track_count  voxel_count  mean_length  ...  mean_FA   se_FA  mean_MD  \\\n",
       "1            515         1259      70.6583  ...   0.4766  0.1420   0.7591   \n",
       "2             69          516      73.4203  ...   0.4158  0.1430   0.7658   \n",
       "3             29          242      74.0345  ...   0.3919  0.1476   0.7632   \n",
       "4            269          860      69.9628  ...   0.4062  0.1360   0.7613   \n",
       "5              0            0       0.0000  ...   0.0000  0.0000   0.0000   \n",
       "..           ...          ...          ...  ...      ...     ...      ...   \n",
       "520           24          231      96.9583  ...   0.4504  0.1427   0.7868   \n",
       "521           87          581      89.3793  ...   0.4101  0.1125   0.7998   \n",
       "522          147          916      86.3741  ...   0.4360  0.1478   0.7696   \n",
       "523           35          337      78.6571  ...   0.3481  0.1211   0.7859   \n",
       "524           46          402      82.1087  ...   0.3562  0.1132   0.8383   \n",
       "\n",
       "      se_MD  mean_RD   se_RD  yr_scan  lateral_missing  missing  \\\n",
       "1    0.0903   0.5423  0.1271     2010            False    False   \n",
       "2    0.0925   0.5853  0.1278     2010            False    False   \n",
       "3    0.0925   0.5897  0.1236     2013            False    False   \n",
       "4    0.0825   0.5829  0.1068     2013            False    False   \n",
       "5    0.0000   0.0000  0.0000     2013             True     True   \n",
       "..      ...      ...     ...      ...              ...      ...   \n",
       "520  0.1262   0.5833  0.1485     2009            False    False   \n",
       "521  0.0799   0.6081  0.1020     2011            False    False   \n",
       "522  0.0963   0.5758  0.1371     2011            False    False   \n",
       "523  0.1216   0.6368  0.1415     2011            False    False   \n",
       "524  0.1472   0.6701  0.1477     2011            False    False   \n",
       "\n",
       "     any_tract_missing  \n",
       "1                False  \n",
       "2                False  \n",
       "3                False  \n",
       "4                False  \n",
       "5                 True  \n",
       "..                 ...  \n",
       "520               True  \n",
       "521              False  \n",
       "522              False  \n",
       "523              False  \n",
       "524              False  \n",
       "\n",
       "[524 rows x 27 columns]"
      ]
     },
     "execution_count": 521,
     "metadata": {},
     "output_type": "execute_result"
    }
   ],
   "source": [
    "len()"
   ]
  },
  {
   "cell_type": "code",
   "execution_count": 523,
   "metadata": {},
   "outputs": [],
   "source": [
    "df = pd.merge(df, alog, on = ['subnum', 'tract'], how = 'left')"
   ]
  },
  {
   "cell_type": "markdown",
   "metadata": {},
   "source": [
    "## Check for Zero values\n",
    "Remove zero value rows  \n",
    "Add a column that indicates whether the both side exists or not"
   ]
  },
  {
   "cell_type": "code",
   "execution_count": 524,
   "metadata": {},
   "outputs": [],
   "source": [
    "df['missing'] = np.where(df.track_count == 0, True, False)"
   ]
  },
  {
   "cell_type": "code",
   "execution_count": 525,
   "metadata": {},
   "outputs": [],
   "source": [
    "for subnum, tr, side in df[df.missing][['subnum', 'tract', 'side']].values: \n",
    "    opposite_side = side == 'L' and 'R' or 'L'\n",
    "    df.loc[df[(df.subnum == subnum) & (df.side == opposite_side) & (df.tract == tr)].index[0], 'lateral_missing'] = True"
   ]
  },
  {
   "cell_type": "code",
   "execution_count": 526,
   "metadata": {},
   "outputs": [],
   "source": [
    "# add a column if the other tract group is missing on either side\n",
    "missing = df[df.missing]['subnum'].values\n",
    "df['any_tract_missing'] = np.where(df.subnum.isin(missing), True, False)"
   ]
  },
  {
   "cell_type": "markdown",
   "metadata": {},
   "source": [
    "#### Total Counts of complete brains"
   ]
  },
  {
   "cell_type": "code",
   "execution_count": 527,
   "metadata": {},
   "outputs": [
    {
     "data": {
      "text/plain": [
       "condition  tract\n",
       "HC         FAT      49\n",
       "           UF       49\n",
       "SZ         FAT      44\n",
       "           UF       44\n",
       "Name: subnum, dtype: int64"
      ]
     },
     "execution_count": 527,
     "metadata": {},
     "output_type": "execute_result"
    }
   ],
   "source": [
    "df[~df.any_tract_missing].groupby(['condition', 'tract']).subnum.nunique()"
   ]
  },
  {
   "cell_type": "markdown",
   "metadata": {},
   "source": [
    "#### Total Counts of Complete Tracts"
   ]
  },
  {
   "cell_type": "code",
   "execution_count": 528,
   "metadata": {},
   "outputs": [
    {
     "data": {
      "text/plain": [
       "condition  tract\n",
       "HC         FAT      50\n",
       "           UF       68\n",
       "SZ         FAT      47\n",
       "           UF       58\n",
       "Name: subnum, dtype: int64"
      ]
     },
     "execution_count": 528,
     "metadata": {},
     "output_type": "execute_result"
    }
   ],
   "source": [
    "df[~(df.missing | df.lateral_missing)].groupby(['condition', 'tract']).subnum.nunique()"
   ]
  },
  {
   "cell_type": "markdown",
   "metadata": {},
   "source": [
    "## Data Type\n",
    "Confirming data types"
   ]
  },
  {
   "cell_type": "code",
   "execution_count": 529,
   "metadata": {},
   "outputs": [],
   "source": [
    "#df.info()"
   ]
  },
  {
   "cell_type": "markdown",
   "metadata": {},
   "source": [
    "datetime_extracted should be a datetime object.   \n",
    "track_count and voxel_count should be integers."
   ]
  },
  {
   "cell_type": "code",
   "execution_count": 530,
   "metadata": {},
   "outputs": [],
   "source": [
    "df.datetime_extracted = pd.to_datetime(df.datetime_extracted)"
   ]
  },
  {
   "cell_type": "code",
   "execution_count": 531,
   "metadata": {},
   "outputs": [],
   "source": [
    "df.track_count = df.track_count.astype('int')\n",
    "df.voxel_count = df.voxel_count.astype('int')"
   ]
  },
  {
   "cell_type": "code",
   "execution_count": null,
   "metadata": {},
   "outputs": [],
   "source": []
  },
  {
   "cell_type": "code",
   "execution_count": 532,
   "metadata": {},
   "outputs": [],
   "source": [
    "clean_df = df[~(df.missing | df.lateral_missing)]"
   ]
  },
  {
   "cell_type": "code",
   "execution_count": 533,
   "metadata": {},
   "outputs": [
    {
     "data": {
      "text/html": [
       "<div>\n",
       "<style scoped>\n",
       "    .dataframe tbody tr th:only-of-type {\n",
       "        vertical-align: middle;\n",
       "    }\n",
       "\n",
       "    .dataframe tbody tr th {\n",
       "        vertical-align: top;\n",
       "    }\n",
       "\n",
       "    .dataframe thead th {\n",
       "        text-align: right;\n",
       "    }\n",
       "</style>\n",
       "<table border=\"1\" class=\"dataframe\">\n",
       "  <thead>\n",
       "    <tr style=\"text-align: right;\">\n",
       "      <th></th>\n",
       "      <th>track_count</th>\n",
       "      <th>voxel_count</th>\n",
       "      <th>mean_length</th>\n",
       "      <th>se_length</th>\n",
       "      <th>mean_fatrk</th>\n",
       "      <th>se_fatrk</th>\n",
       "      <th>mean_angtrk</th>\n",
       "      <th>se_angtrk</th>\n",
       "      <th>mean_AD</th>\n",
       "      <th>se_AD</th>\n",
       "      <th>mean_FA</th>\n",
       "      <th>se_FA</th>\n",
       "      <th>mean_MD</th>\n",
       "      <th>se_MD</th>\n",
       "      <th>mean_RD</th>\n",
       "      <th>se_RD</th>\n",
       "    </tr>\n",
       "  </thead>\n",
       "  <tbody>\n",
       "    <tr>\n",
       "      <th>count</th>\n",
       "      <td>448.000000</td>\n",
       "      <td>448.000000</td>\n",
       "      <td>448.000000</td>\n",
       "      <td>448.000000</td>\n",
       "      <td>448.000000</td>\n",
       "      <td>448.000000</td>\n",
       "      <td>448.000000</td>\n",
       "      <td>448.000000</td>\n",
       "      <td>448.000000</td>\n",
       "      <td>448.000000</td>\n",
       "      <td>448.000000</td>\n",
       "      <td>448.000000</td>\n",
       "      <td>448.000000</td>\n",
       "      <td>448.000000</td>\n",
       "      <td>448.000000</td>\n",
       "      <td>448.000000</td>\n",
       "    </tr>\n",
       "    <tr>\n",
       "      <th>mean</th>\n",
       "      <td>207.566964</td>\n",
       "      <td>866.560268</td>\n",
       "      <td>84.343808</td>\n",
       "      <td>9.359852</td>\n",
       "      <td>0.393875</td>\n",
       "      <td>0.121922</td>\n",
       "      <td>6.382530</td>\n",
       "      <td>4.566453</td>\n",
       "      <td>1.185490</td>\n",
       "      <td>0.181793</td>\n",
       "      <td>0.425323</td>\n",
       "      <td>0.131338</td>\n",
       "      <td>0.795796</td>\n",
       "      <td>0.112465</td>\n",
       "      <td>0.600950</td>\n",
       "      <td>0.136860</td>\n",
       "    </tr>\n",
       "    <tr>\n",
       "      <th>std</th>\n",
       "      <td>146.537593</td>\n",
       "      <td>432.414304</td>\n",
       "      <td>12.883946</td>\n",
       "      <td>5.590328</td>\n",
       "      <td>0.029146</td>\n",
       "      <td>0.014675</td>\n",
       "      <td>0.665261</td>\n",
       "      <td>0.494540</td>\n",
       "      <td>0.055846</td>\n",
       "      <td>0.040894</td>\n",
       "      <td>0.030227</td>\n",
       "      <td>0.013425</td>\n",
       "      <td>0.039967</td>\n",
       "      <td>0.041208</td>\n",
       "      <td>0.039791</td>\n",
       "      <td>0.035545</td>\n",
       "    </tr>\n",
       "    <tr>\n",
       "      <th>min</th>\n",
       "      <td>3.000000</td>\n",
       "      <td>91.000000</td>\n",
       "      <td>52.000000</td>\n",
       "      <td>1.329200</td>\n",
       "      <td>0.313700</td>\n",
       "      <td>0.073800</td>\n",
       "      <td>4.467400</td>\n",
       "      <td>3.158400</td>\n",
       "      <td>1.034000</td>\n",
       "      <td>0.094200</td>\n",
       "      <td>0.338500</td>\n",
       "      <td>0.080300</td>\n",
       "      <td>0.682700</td>\n",
       "      <td>0.058200</td>\n",
       "      <td>0.499400</td>\n",
       "      <td>0.083100</td>\n",
       "    </tr>\n",
       "    <tr>\n",
       "      <th>25%</th>\n",
       "      <td>92.000000</td>\n",
       "      <td>557.000000</td>\n",
       "      <td>73.356725</td>\n",
       "      <td>5.167650</td>\n",
       "      <td>0.373850</td>\n",
       "      <td>0.112375</td>\n",
       "      <td>5.945675</td>\n",
       "      <td>4.239450</td>\n",
       "      <td>1.144750</td>\n",
       "      <td>0.160800</td>\n",
       "      <td>0.405875</td>\n",
       "      <td>0.122225</td>\n",
       "      <td>0.766975</td>\n",
       "      <td>0.089275</td>\n",
       "      <td>0.569625</td>\n",
       "      <td>0.115975</td>\n",
       "    </tr>\n",
       "    <tr>\n",
       "      <th>50%</th>\n",
       "      <td>188.500000</td>\n",
       "      <td>833.500000</td>\n",
       "      <td>83.026400</td>\n",
       "      <td>8.292400</td>\n",
       "      <td>0.394350</td>\n",
       "      <td>0.121000</td>\n",
       "      <td>6.348150</td>\n",
       "      <td>4.532900</td>\n",
       "      <td>1.187450</td>\n",
       "      <td>0.176150</td>\n",
       "      <td>0.424850</td>\n",
       "      <td>0.130950</td>\n",
       "      <td>0.794200</td>\n",
       "      <td>0.105950</td>\n",
       "      <td>0.598150</td>\n",
       "      <td>0.131650</td>\n",
       "    </tr>\n",
       "    <tr>\n",
       "      <th>75%</th>\n",
       "      <td>289.500000</td>\n",
       "      <td>1150.250000</td>\n",
       "      <td>94.958350</td>\n",
       "      <td>12.422050</td>\n",
       "      <td>0.414525</td>\n",
       "      <td>0.131300</td>\n",
       "      <td>6.746125</td>\n",
       "      <td>4.840925</td>\n",
       "      <td>1.225300</td>\n",
       "      <td>0.192925</td>\n",
       "      <td>0.447250</td>\n",
       "      <td>0.141025</td>\n",
       "      <td>0.820600</td>\n",
       "      <td>0.124825</td>\n",
       "      <td>0.626575</td>\n",
       "      <td>0.148425</td>\n",
       "    </tr>\n",
       "    <tr>\n",
       "      <th>max</th>\n",
       "      <td>879.000000</td>\n",
       "      <td>2665.000000</td>\n",
       "      <td>121.574800</td>\n",
       "      <td>36.032900</td>\n",
       "      <td>0.477600</td>\n",
       "      <td>0.180400</td>\n",
       "      <td>9.714200</td>\n",
       "      <td>6.750900</td>\n",
       "      <td>1.334300</td>\n",
       "      <td>0.642600</td>\n",
       "      <td>0.505000</td>\n",
       "      <td>0.184000</td>\n",
       "      <td>0.913200</td>\n",
       "      <td>0.533500</td>\n",
       "      <td>0.734200</td>\n",
       "      <td>0.496100</td>\n",
       "    </tr>\n",
       "  </tbody>\n",
       "</table>\n",
       "</div>"
      ],
      "text/plain": [
       "       track_count  voxel_count  mean_length   se_length  mean_fatrk  \\\n",
       "count   448.000000   448.000000   448.000000  448.000000  448.000000   \n",
       "mean    207.566964   866.560268    84.343808    9.359852    0.393875   \n",
       "std     146.537593   432.414304    12.883946    5.590328    0.029146   \n",
       "min       3.000000    91.000000    52.000000    1.329200    0.313700   \n",
       "25%      92.000000   557.000000    73.356725    5.167650    0.373850   \n",
       "50%     188.500000   833.500000    83.026400    8.292400    0.394350   \n",
       "75%     289.500000  1150.250000    94.958350   12.422050    0.414525   \n",
       "max     879.000000  2665.000000   121.574800   36.032900    0.477600   \n",
       "\n",
       "         se_fatrk  mean_angtrk   se_angtrk     mean_AD       se_AD  \\\n",
       "count  448.000000   448.000000  448.000000  448.000000  448.000000   \n",
       "mean     0.121922     6.382530    4.566453    1.185490    0.181793   \n",
       "std      0.014675     0.665261    0.494540    0.055846    0.040894   \n",
       "min      0.073800     4.467400    3.158400    1.034000    0.094200   \n",
       "25%      0.112375     5.945675    4.239450    1.144750    0.160800   \n",
       "50%      0.121000     6.348150    4.532900    1.187450    0.176150   \n",
       "75%      0.131300     6.746125    4.840925    1.225300    0.192925   \n",
       "max      0.180400     9.714200    6.750900    1.334300    0.642600   \n",
       "\n",
       "          mean_FA       se_FA     mean_MD       se_MD     mean_RD       se_RD  \n",
       "count  448.000000  448.000000  448.000000  448.000000  448.000000  448.000000  \n",
       "mean     0.425323    0.131338    0.795796    0.112465    0.600950    0.136860  \n",
       "std      0.030227    0.013425    0.039967    0.041208    0.039791    0.035545  \n",
       "min      0.338500    0.080300    0.682700    0.058200    0.499400    0.083100  \n",
       "25%      0.405875    0.122225    0.766975    0.089275    0.569625    0.115975  \n",
       "50%      0.424850    0.130950    0.794200    0.105950    0.598150    0.131650  \n",
       "75%      0.447250    0.141025    0.820600    0.124825    0.626575    0.148425  \n",
       "max      0.505000    0.184000    0.913200    0.533500    0.734200    0.496100  "
      ]
     },
     "execution_count": 533,
     "metadata": {},
     "output_type": "execute_result"
    }
   ],
   "source": [
    "clean_df.describe()"
   ]
  },
  {
   "cell_type": "markdown",
   "metadata": {},
   "source": [
    "Even without 0 values, there are ones that has less than 10 tracks. Are these ok?"
   ]
  },
  {
   "cell_type": "code",
   "execution_count": 534,
   "metadata": {},
   "outputs": [
    {
     "data": {
      "image/png": "[encoded data removed]",
      "text/plain": [
       "<Figure size 432x288 with 1 Axes>"
      ]
     },
     "metadata": {
      "needs_background": "light"
     },
     "output_type": "display_data"
    },
    {
     "data": {
      "image/png": "[encoded data removed]",
      "text/plain": [
       "<Figure size 432x288 with 1 Axes>"
      ]
     },
     "metadata": {
      "needs_background": "light"
     },
     "output_type": "display_data"
    }
   ],
   "source": [
    "sns.distplot(clean_df[(clean_df.tract == 'UF') & (clean_df.condition == 'HC')].track_count, label = 'HC', kde = False, bins = 50)\n",
    "sns.distplot(clean_df[(clean_df.tract == 'UF') & (clean_df.condition == 'SZ')].track_count, label = 'SZ', kde = False, bins = 50)\n",
    "plt.legend()\n",
    "plt.title('UF')\n",
    "plt.show()\n",
    "\n",
    "sns.distplot(clean_df[(clean_df.tract == 'FAT') & (clean_df.condition == 'HC')].track_count, label = 'HC', kde = False, bins = 50)\n",
    "sns.distplot(clean_df[(clean_df.tract == 'FAT') & (clean_df.condition == 'SZ')].track_count, label = 'SZ', kde = False, bins = 50)\n",
    "plt.legend()\n",
    "plt.title('FAT')\n",
    "plt.show()"
   ]
  },
  {
   "cell_type": "markdown",
   "metadata": {},
   "source": [
    "## Check for Outliers\n",
    "Instead of checking outliers based on a specific value, I'm going to cluster values based on voxel and track counts, and see if there are ones that stand out. (per different tracts)"
   ]
  },
  {
   "cell_type": "code",
   "execution_count": 535,
   "metadata": {},
   "outputs": [],
   "source": [
    "from scipy.cluster.hierarchy import dendrogram, linkage\n",
    "from sklearn.preprocessing import StandardScaler"
   ]
  },
  {
   "cell_type": "code",
   "execution_count": 536,
   "metadata": {},
   "outputs": [],
   "source": [
    "from sklearn.cluster import AgglomerativeClustering"
   ]
  },
  {
   "cell_type": "code",
   "execution_count": 563,
   "metadata": {},
   "outputs": [
    {
     "data": {
      "text/plain": [
       "condition  tract  side\n",
       "HC         FAT    L       69\n",
       "                  R       69\n",
       "           UF     L       69\n",
       "                  R       69\n",
       "SZ         FAT    L       61\n",
       "                  R       61\n",
       "           UF     F        1\n",
       "                  L       61\n",
       "                  R       60\n",
       "Name: subnum, dtype: int64"
      ]
     },
     "execution_count": 563,
     "metadata": {},
     "output_type": "execute_result"
    }
   ],
   "source": [
    "df.groupby(['condition', 'tract', 'side']).subnum.nunique()"
   ]
  },
  {
   "cell_type": "code",
   "execution_count": 566,
   "metadata": {},
   "outputs": [
    {
     "data": {
      "text/plain": [
       "condition  tract  side\n",
       "HC         FAT    L       50\n",
       "                  R       50\n",
       "           UF     L       68\n",
       "                  R       68\n",
       "SZ         FAT    L       47\n",
       "                  R       47\n",
       "           UF     F        1\n",
       "                  L       58\n",
       "                  R       57\n",
       "Name: subnum, dtype: int64"
      ]
     },
     "execution_count": 566,
     "metadata": {},
     "output_type": "execute_result"
    }
   ],
   "source": [
    "clean_df.groupby(['condition', 'tract', 'side']).subnum.nunique()"
   ]
  },
  {
   "cell_type": "code",
   "execution_count": 567,
   "metadata": {},
   "outputs": [
    {
     "data": {
      "text/plain": [
       "condition  tract  side\n",
       "HC         FAT    L        8\n",
       "                  R        9\n",
       "           UF     L        3\n",
       "                  R        2\n",
       "SZ         FAT    L       13\n",
       "                  R       10\n",
       "           UF     L        7\n",
       "                  R        2\n",
       "Name: subnum, dtype: int64"
      ]
     },
     "execution_count": 567,
     "metadata": {},
     "output_type": "execute_result"
    }
   ],
   "source": [
    "clean_df[clean_df.track_count <= 50].groupby(['condition', 'tract', 'side']).subnum.nunique()"
   ]
  },
  {
   "cell_type": "code",
   "execution_count": 565,
   "metadata": {},
   "outputs": [
    {
     "data": {
      "text/plain": [
       "condition  tract  side\n",
       "HC         FAT    L        7\n",
       "                  R        9\n",
       "           UF     L       15\n",
       "                  R       28\n",
       "SZ         FAT    L        6\n",
       "                  R        9\n",
       "           UF     L        8\n",
       "                  R       21\n",
       "Name: subnum, dtype: int64"
      ]
     },
     "execution_count": 565,
     "metadata": {},
     "output_type": "execute_result"
    }
   ],
   "source": [
    "df[df.track_count >= 300].groupby(['condition', 'tract', 'side']).subnum.nunique()"
   ]
  },
  {
   "cell_type": "markdown",
   "metadata": {},
   "source": [
    "### FAT only"
   ]
  },
  {
   "cell_type": "code",
   "execution_count": 537,
   "metadata": {},
   "outputs": [],
   "source": [
    "cols = ['track_count', 'voxel_count']"
   ]
  },
  {
   "cell_type": "markdown",
   "metadata": {},
   "source": [
    "#### FAT-Left"
   ]
  },
  {
   "cell_type": "code",
   "execution_count": 538,
   "metadata": {},
   "outputs": [],
   "source": [
    "def get_X(df):\n",
    "    X = df[cols].values\n",
    "    scaler = StandardScaler()\n",
    "    return scaler.fit_transform(X)\n",
    "    \n",
    "def plot_dendrogram(X):\n",
    "    lnk_arr = linkage(X, method = 'ward')\n",
    "    plt.figure(figsize=(25, 8))\n",
    "    plt.title('Hierarchical Clustering Dendrogram')\n",
    "    plt.xlabel('Index')\n",
    "    plt.ylabel('Distance')\n",
    "    dendrogram(\n",
    "        lnk_arr,\n",
    "        leaf_rotation=90.,\n",
    "        leaf_font_size=8.) \n",
    "    plt.show()"
   ]
  },
  {
   "cell_type": "code",
   "execution_count": 539,
   "metadata": {},
   "outputs": [
    {
     "data": {
      "image/png": "[encoded data removed]",
      "text/plain": [
       "<Figure size 1800x576 with 1 Axes>"
      ]
     },
     "metadata": {
      "needs_background": "light"
     },
     "output_type": "display_data"
    }
   ],
   "source": [
    "FATdf_L = clean_df[(clean_df.tract == 'FAT') & (clean_df.side == 'L')].reset_index()\n",
    "x_std = get_X(FATdf_L)\n",
    "plot_dendrogram(x_std)"
   ]
  },
  {
   "cell_type": "code",
   "execution_count": 540,
   "metadata": {},
   "outputs": [],
   "source": [
    "def plot_clusters(x, n = 3): \n",
    "    clusters = AgglomerativeClustering(n_clusters = n)\n",
    "    pred = clusters.fit_predict(x)\n",
    "    plt.scatter(x[:, 0], x[:, 1], c = pred, s = 10)\n",
    "    plt.show()\n",
    "    return pred"
   ]
  },
  {
   "cell_type": "code",
   "execution_count": 541,
   "metadata": {},
   "outputs": [
    {
     "data": {
      "image/png": "[encoded data removed]",
      "text/plain": [
       "<Figure size 432x288 with 1 Axes>"
      ]
     },
     "metadata": {
      "needs_background": "light"
     },
     "output_type": "display_data"
    }
   ],
   "source": [
    "pred = plot_clusters(x_std)"
   ]
  },
  {
   "cell_type": "code",
   "execution_count": 542,
   "metadata": {},
   "outputs": [
    {
     "data": {
      "text/plain": [
       "Counter({1: 6, 2: 29, 0: 63})"
      ]
     },
     "execution_count": 542,
     "metadata": {},
     "output_type": "execute_result"
    }
   ],
   "source": [
    "from collections import Counter\n",
    "Counter(pred)"
   ]
  },
  {
   "cell_type": "code",
   "execution_count": 543,
   "metadata": {},
   "outputs": [],
   "source": [
    "zero_list = [k for k, v in dict(zip(range(len(pred)), pred)).items() if v == 0]\n",
    "one_list = [k for k, v in dict(zip(range(len(pred)), pred)).items() if v == 1]\n",
    "two_list = [k for k, v in dict(zip(range(len(pred)), pred)).items() if v == 2]"
   ]
  },
  {
   "cell_type": "code",
   "execution_count": 544,
   "metadata": {},
   "outputs": [
    {
     "data": {
      "text/html": [
       "<div>\n",
       "<style scoped>\n",
       "    .dataframe tbody tr th:only-of-type {\n",
       "        vertical-align: middle;\n",
       "    }\n",
       "\n",
       "    .dataframe tbody tr th {\n",
       "        vertical-align: top;\n",
       "    }\n",
       "\n",
       "    .dataframe thead th {\n",
       "        text-align: right;\n",
       "    }\n",
       "</style>\n",
       "<table border=\"1\" class=\"dataframe\">\n",
       "  <thead>\n",
       "    <tr style=\"text-align: right;\">\n",
       "      <th></th>\n",
       "      <th>index</th>\n",
       "      <th>subnum</th>\n",
       "      <th>admin</th>\n",
       "      <th>condition</th>\n",
       "      <th>tract</th>\n",
       "      <th>datetime_extracted</th>\n",
       "      <th>side</th>\n",
       "      <th>fn_note</th>\n",
       "      <th>track_count</th>\n",
       "      <th>voxel_count</th>\n",
       "      <th>...</th>\n",
       "      <th>se_FA</th>\n",
       "      <th>mean_MD</th>\n",
       "      <th>se_MD</th>\n",
       "      <th>mean_RD</th>\n",
       "      <th>se_RD</th>\n",
       "      <th>yr_scan</th>\n",
       "      <th>lateral_missing</th>\n",
       "      <th>missing</th>\n",
       "      <th>any_tract_missing</th>\n",
       "      <th>note</th>\n",
       "    </tr>\n",
       "  </thead>\n",
       "  <tbody>\n",
       "    <tr>\n",
       "      <th>0</th>\n",
       "      <td>0</td>\n",
       "      <td>00024684</td>\n",
       "      <td>HW</td>\n",
       "      <td>SZ</td>\n",
       "      <td>FAT</td>\n",
       "      <td>2020-11-24 02:20:18</td>\n",
       "      <td>L</td>\n",
       "      <td></td>\n",
       "      <td>515</td>\n",
       "      <td>1259</td>\n",
       "      <td>...</td>\n",
       "      <td>0.1420</td>\n",
       "      <td>0.7591</td>\n",
       "      <td>0.0903</td>\n",
       "      <td>0.5423</td>\n",
       "      <td>0.1271</td>\n",
       "      <td>2010</td>\n",
       "      <td>False</td>\n",
       "      <td>False</td>\n",
       "      <td>False</td>\n",
       "      <td>good</td>\n",
       "    </tr>\n",
       "    <tr>\n",
       "      <th>7</th>\n",
       "      <td>20</td>\n",
       "      <td>00023158</td>\n",
       "      <td>HW</td>\n",
       "      <td>SZ</td>\n",
       "      <td>FAT</td>\n",
       "      <td>2020-11-24 01:16:06</td>\n",
       "      <td>L</td>\n",
       "      <td></td>\n",
       "      <td>606</td>\n",
       "      <td>1862</td>\n",
       "      <td>...</td>\n",
       "      <td>0.1299</td>\n",
       "      <td>0.8019</td>\n",
       "      <td>0.0686</td>\n",
       "      <td>0.6094</td>\n",
       "      <td>0.1121</td>\n",
       "      <td>2009</td>\n",
       "      <td>False</td>\n",
       "      <td>False</td>\n",
       "      <td>False</td>\n",
       "      <td>good</td>\n",
       "    </tr>\n",
       "    <tr>\n",
       "      <th>31</th>\n",
       "      <td>83</td>\n",
       "      <td>00016197</td>\n",
       "      <td>SS</td>\n",
       "      <td>SZ</td>\n",
       "      <td>FAT</td>\n",
       "      <td>2020-12-23 15:47:26</td>\n",
       "      <td>L</td>\n",
       "      <td></td>\n",
       "      <td>557</td>\n",
       "      <td>1524</td>\n",
       "      <td>...</td>\n",
       "      <td>0.1560</td>\n",
       "      <td>0.7803</td>\n",
       "      <td>0.1066</td>\n",
       "      <td>0.5453</td>\n",
       "      <td>0.1449</td>\n",
       "      <td>2009</td>\n",
       "      <td>False</td>\n",
       "      <td>False</td>\n",
       "      <td>False</td>\n",
       "      <td>good</td>\n",
       "    </tr>\n",
       "    <tr>\n",
       "      <th>62</th>\n",
       "      <td>166</td>\n",
       "      <td>00014898</td>\n",
       "      <td>HW</td>\n",
       "      <td>HC</td>\n",
       "      <td>FAT</td>\n",
       "      <td>2020-11-23 22:28:23</td>\n",
       "      <td>L</td>\n",
       "      <td></td>\n",
       "      <td>879</td>\n",
       "      <td>2279</td>\n",
       "      <td>...</td>\n",
       "      <td>0.1337</td>\n",
       "      <td>0.7950</td>\n",
       "      <td>0.1163</td>\n",
       "      <td>0.5890</td>\n",
       "      <td>0.1369</td>\n",
       "      <td>2009</td>\n",
       "      <td>False</td>\n",
       "      <td>False</td>\n",
       "      <td>False</td>\n",
       "      <td>good</td>\n",
       "    </tr>\n",
       "    <tr>\n",
       "      <th>65</th>\n",
       "      <td>174</td>\n",
       "      <td>00020895</td>\n",
       "      <td>HW</td>\n",
       "      <td>HC</td>\n",
       "      <td>FAT</td>\n",
       "      <td>2020-11-24 00:06:27</td>\n",
       "      <td>L</td>\n",
       "      <td></td>\n",
       "      <td>688</td>\n",
       "      <td>1463</td>\n",
       "      <td>...</td>\n",
       "      <td>0.1457</td>\n",
       "      <td>0.7537</td>\n",
       "      <td>0.1181</td>\n",
       "      <td>0.5480</td>\n",
       "      <td>0.1460</td>\n",
       "      <td>2010</td>\n",
       "      <td>False</td>\n",
       "      <td>False</td>\n",
       "      <td>False</td>\n",
       "      <td>(L) preSMA removed</td>\n",
       "    </tr>\n",
       "    <tr>\n",
       "      <th>78</th>\n",
       "      <td>208</td>\n",
       "      <td>00024955</td>\n",
       "      <td>SS</td>\n",
       "      <td>HC</td>\n",
       "      <td>FAT</td>\n",
       "      <td>2020-12-21 00:37:44</td>\n",
       "      <td>L</td>\n",
       "      <td></td>\n",
       "      <td>614</td>\n",
       "      <td>1546</td>\n",
       "      <td>...</td>\n",
       "      <td>0.1371</td>\n",
       "      <td>0.7687</td>\n",
       "      <td>0.1571</td>\n",
       "      <td>0.5694</td>\n",
       "      <td>0.1745</td>\n",
       "      <td>2009</td>\n",
       "      <td>False</td>\n",
       "      <td>False</td>\n",
       "      <td>False</td>\n",
       "      <td>blue and light green looping in both FATs, sav...</td>\n",
       "    </tr>\n",
       "  </tbody>\n",
       "</table>\n",
       "<p>6 rows × 29 columns</p>\n",
       "</div>"
      ],
      "text/plain": [
       "    index    subnum admin condition tract  datetime_extracted side fn_note  \\\n",
       "0       0  00024684    HW        SZ   FAT 2020-11-24 02:20:18    L           \n",
       "7      20  00023158    HW        SZ   FAT 2020-11-24 01:16:06    L           \n",
       "31     83  00016197    SS        SZ   FAT 2020-12-23 15:47:26    L           \n",
       "62    166  00014898    HW        HC   FAT 2020-11-23 22:28:23    L           \n",
       "65    174  00020895    HW        HC   FAT 2020-11-24 00:06:27    L           \n",
       "78    208  00024955    SS        HC   FAT 2020-12-21 00:37:44    L           \n",
       "\n",
       "    track_count  voxel_count  ...   se_FA  mean_MD   se_MD  mean_RD   se_RD  \\\n",
       "0           515         1259  ...  0.1420   0.7591  0.0903   0.5423  0.1271   \n",
       "7           606         1862  ...  0.1299   0.8019  0.0686   0.6094  0.1121   \n",
       "31          557         1524  ...  0.1560   0.7803  0.1066   0.5453  0.1449   \n",
       "62          879         2279  ...  0.1337   0.7950  0.1163   0.5890  0.1369   \n",
       "65          688         1463  ...  0.1457   0.7537  0.1181   0.5480  0.1460   \n",
       "78          614         1546  ...  0.1371   0.7687  0.1571   0.5694  0.1745   \n",
       "\n",
       "    yr_scan  lateral_missing  missing  any_tract_missing  \\\n",
       "0      2010            False    False              False   \n",
       "7      2009            False    False              False   \n",
       "31     2009            False    False              False   \n",
       "62     2009            False    False              False   \n",
       "65     2010            False    False              False   \n",
       "78     2009            False    False              False   \n",
       "\n",
       "                                                 note  \n",
       "0                                                good  \n",
       "7                                                good  \n",
       "31                                               good  \n",
       "62                                               good  \n",
       "65                                (L) preSMA removed   \n",
       "78  blue and light green looping in both FATs, sav...  \n",
       "\n",
       "[6 rows x 29 columns]"
      ]
     },
     "execution_count": 544,
     "metadata": {},
     "output_type": "execute_result"
    }
   ],
   "source": [
    "FATdf_L.iloc[one_list] # excessive track "
   ]
  },
  {
   "cell_type": "markdown",
   "metadata": {},
   "source": [
    "It seems like there are some that has excessive number of tracts. Most are marked to be good -- are we sure we are not going over the area?"
   ]
  },
  {
   "cell_type": "markdown",
   "metadata": {},
   "source": [
    "### Right"
   ]
  },
  {
   "cell_type": "code",
   "execution_count": 547,
   "metadata": {},
   "outputs": [
    {
     "data": {
      "image/png": "[encoded data removed]",
      "text/plain": [
       "<Figure size 1800x576 with 1 Axes>"
      ]
     },
     "metadata": {
      "needs_background": "light"
     },
     "output_type": "display_data"
    }
   ],
   "source": [
    "FATdf_R = clean_df[(clean_df.tract == 'FAT') & (clean_df.side == 'R')]\n",
    "x_std = get_X(FATdf_R)\n",
    "plot_dendrogram(x_std)"
   ]
  },
  {
   "cell_type": "code",
   "execution_count": 549,
   "metadata": {},
   "outputs": [
    {
     "data": {
      "image/png": "[encoded data removed]",
      "text/plain": [
       "<Figure size 432x288 with 1 Axes>"
      ]
     },
     "metadata": {
      "needs_background": "light"
     },
     "output_type": "display_data"
    },
    {
     "data": {
      "text/plain": [
       "Counter({1: 48, 2: 34, 0: 16})"
      ]
     },
     "execution_count": 549,
     "metadata": {},
     "output_type": "execute_result"
    }
   ],
   "source": [
    "pred = plot_clusters(x_std)\n",
    "Counter(pred)"
   ]
  },
  {
   "cell_type": "markdown",
   "metadata": {},
   "source": [
    "There isn't as strong of an outlier groups"
   ]
  },
  {
   "cell_type": "code",
   "execution_count": null,
   "metadata": {},
   "outputs": [],
   "source": []
  }
 ],
 "metadata": {
  "kernelspec": {
   "display_name": "Python 3",
   "language": "python",
   "name": "python3"
  },
  "language_info": {
   "codemirror_mode": {
    "name": "ipython",
    "version": 3
   },
   "file_extension": ".py",
   "mimetype": "text/x-python",
   "name": "python",
   "nbconvert_exporter": "python",
   "pygments_lexer": "ipython3",
   "version": "3.7.4"
  }
 },
 "nbformat": 4,
 "nbformat_minor": 4
}
