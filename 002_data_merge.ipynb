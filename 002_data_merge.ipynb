{
 "cells": [
  {
   "cell_type": "markdown",
   "metadata": {},
   "source": [
    "# Data Merge\n",
    "This notebook describes steps to pull the stats from the txt files and combine them to create the final data structure."
   ]
  },
  {
   "cell_type": "code",
   "execution_count": 99,
   "metadata": {},
   "outputs": [],
   "source": [
    "import pandas as pd\n",
    "import numpy as np\n",
    "import matplotlib.pyplot as plt\n",
    "%matplotlib inline\n",
    "\n",
    "import os\n",
    "import re\n",
    "from collections import OrderedDict\n"
   ]
  },
  {
   "cell_type": "markdown",
   "metadata": {},
   "source": [
    "### Location Path\n",
    "Define the location of files here."
   ]
  },
  {
   "cell_type": "code",
   "execution_count": 19,
   "metadata": {},
   "outputs": [],
   "source": [
    "DATA_PATH = '/Users/stereopickles/CU_Google_Drive/COLUMBIA/DSI-Schizo/Data2020/DATA040320'\n",
    "HC_PATH = f\"{DATA_PATH}/HC/COBRE_prep/HC_Stats\"\n",
    "SZ_PATH = f\"{DATA_PATH}/SZ/COBRE_prep/SZ_Stats\"\n",
    "HC_FAT_DTI_PATH = f'{HC_PATH}/FAT'\n",
    "SZ_FAT_DTI_PATH = f'{SZ_PATH}/FAT'\n",
    "HC_UF_DTI_PATH = f'{HC_PATH}/UF'\n",
    "SZ_UF_DTI_PATH = f'{SZ_PATH}/UF'"
   ]
  },
  {
   "cell_type": "code",
   "execution_count": 31,
   "metadata": {},
   "outputs": [],
   "source": [
    "TRACTS = ['FAT', 'UF']\n",
    "CONDS = ['SZ', 'HC']"
   ]
  },
  {
   "cell_type": "markdown",
   "metadata": {},
   "source": [
    "### Extract stats \n",
    "The resulting table should look like \n",
    "| subnum | admin | condition | tract | datetime | side | track_count | voxel_count | mean_length | mean_FA_trk | mean_Ang | mean_FA | mean_AD | mean_MD | mean_RD | "
   ]
  },
  {
   "cell_type": "code",
   "execution_count": 56,
   "metadata": {},
   "outputs": [],
   "source": [
    "df = pd.DataFrame(\n",
    "    columns = ['subnum',\n",
    "               'admin',\n",
    "               'condition',\n",
    "               'tract',\n",
    "               'datetime_extracted',\n",
    "               'yr_scanned',\n",
    "               'side',\n",
    "               'track_count',\n",
    "               'voxel_count',\n",
    "               'mean_length', 'se_length',\n",
    "               'mean_FA_trk', 'se_FA_trk',\n",
    "               'mean_Ang', 'se_Ang_trk', \n",
    "               'mean_FA', 'se_FA_trk',\n",
    "               'mean_AD', 'se_AD_trk',\n",
    "               'mean_MD', 'se_MD_trk', \n",
    "               'mean_RD', 'se_RD_trk'])"
   ]
  },
  {
   "cell_type": "code",
   "execution_count": 120,
   "metadata": {},
   "outputs": [],
   "source": [
    "def find_num(str_):\n",
    "    return int(re.findall('(?<=: )([.0-9]*)', str_)[0])\n",
    "\n",
    "def find_mean_se(str_):\n",
    "    mean = float(re.findall('(?<=: )([.0-9]*)', str_)[0])\n",
    "    se = float(re.findall('(?<=- )([.0-9]*)', str_)[0])\n",
    "    return mean, se\n",
    "\n",
    "def find_type(str_):\n",
    "    return re.findall('(?<=DTI_)([A-Z]*)', str_)[0]\n",
    "\n",
    "def find_year(str_):\n",
    "    return int(re.findall('(?<=ses-)([0-9]*)', str_)[0][:4])"
   ]
  },
  {
   "cell_type": "code",
   "execution_count": 121,
   "metadata": {},
   "outputs": [],
   "source": [
    "def extract_stats(list_, group = ['FAT', 'UF']):\n",
    "    ''' From a list of lines extract information '''\n",
    "    result = {}\n",
    "    for i in range(0, len(list_), 12):\n",
    "        grp = re.findall('(?<=: )(.*)(?=\\\\n)', list_[i])[0]\n",
    "        trk_group = grp[:3]\n",
    "        side = grp[-1]\n",
    "        if trk_group in group:\n",
    "            trk_cnt = find_num(list_[i+1])\n",
    "            vxl_cnt = find_num(list_[i+2])\n",
    "            mean_length, se_length = find_mean_se(list_[i+4])\n",
    "            mean_fatrk, se_fatrk = find_mean_se(list_[i+5])\n",
    "            mean_angtrk, se_angtrk = find_mean_se(list_[i+6])\n",
    "            yr_scan = find_year(list_[i+7])\n",
    "            stats = {}\n",
    "            for j in range(7, 11):\n",
    "                stats[find_type(list_[i+j])] = find_mean_se(list_[i+j])\n",
    "            if len(stats) != 4: \n",
    "                print('not enough stats')\n",
    "            info = {'track_count': trk_cnt, \n",
    "                    'voxel_count': vxl_cnt, \n",
    "                    'mean_length': mean_length, \n",
    "                    'se_length': se_length, \n",
    "                    'mean_fatrk': mean_fatrk, \n",
    "                    'se_fatrk': se_fatrk, \n",
    "                    'mean_angtrk': mean_angtrk, \n",
    "                    'se_angtrk': se_angtrk, \n",
    "                    'AD': stats['AD'], \n",
    "                    'FA': stats['FA'], \n",
    "                    'MD': stats['MD'], \n",
    "                    'RD': stats['RD'], \n",
    "                    'yr_scan': yr_scan\n",
    "                   }\n",
    "            if trk_group in result:\n",
    "                result[trk_group][side] = info\n",
    "            else:\n",
    "                result[trk_group] = {side: info}\n",
    "        else:\n",
    "            continue\n",
    "    return result"
   ]
  },
  {
   "cell_type": "code",
   "execution_count": 124,
   "metadata": {},
   "outputs": [
    {
     "data": {
      "text/plain": [
       "{'FAT': {'L': {'track_count': 16,\n",
       "   'voxel_count': 206,\n",
       "   'mean_length': 74.9375,\n",
       "   'se_length': 1.8062,\n",
       "   'mean_fatrk': 0.4408,\n",
       "   'se_fatrk': 0.153,\n",
       "   'mean_angtrk': 6.1663,\n",
       "   'se_angtrk': 5.0377,\n",
       "   'AD': (1.2106, 0.1891),\n",
       "   'FA': (0.4689, 0.1567),\n",
       "   'MD': (0.7816, 0.0963),\n",
       "   'RD': (0.5671, 0.1429),\n",
       "   'yr_scan': 2009},\n",
       "  'R': {'track_count': 45,\n",
       "   'voxel_count': 396,\n",
       "   'mean_length': 66.0222,\n",
       "   'se_length': 5.891,\n",
       "   'mean_fatrk': 0.4276,\n",
       "   'se_fatrk': 0.1356,\n",
       "   'mean_angtrk': 7.142,\n",
       "   'se_angtrk': 5.3548,\n",
       "   'AD': (1.1318, 0.1711),\n",
       "   'FA': (0.4615, 0.1411),\n",
       "   'MD': (0.7467, 0.132),\n",
       "   'RD': (0.5541, 0.1606),\n",
       "   'yr_scan': 2009}}}"
      ]
     },
     "execution_count": 124,
     "metadata": {},
     "output_type": "execute_result"
    }
   ],
   "source": [
    "extract_stats(line)"
   ]
  },
  {
   "cell_type": "code",
   "execution_count": 133,
   "metadata": {},
   "outputs": [
    {
     "name": "stdout",
     "output_type": "stream",
     "text": [
      "[['00024684'], 'HW', 'SZ', 'FAT', '2020-11-24 02:20:18', 'L', 515, 1259, 70.6583, 8.1768, 0.4511, 0.1347, 6.1912, 4.0739, (1.1927, 0.1756), (0.4766, 0.142), (0.7591, 0.0903), (0.5423, 0.1271), 2010]\n",
      "[['00024684'], 'HW', 'SZ', 'FAT', '2020-11-24 02:20:18', 'R', 515, 1259, 70.6583, 8.1768, 0.4511, 0.1347, 6.1912, 4.0739, (1.1927, 0.1756), (0.4766, 0.142), (0.7591, 0.0903), (0.5423, 0.1271), 2010, 69, 516, 73.4203, 4.3298, 0.3897, 0.1346, 6.9242, 4.8529, (1.1268, 0.1687), (0.4158, 0.143), (0.7658, 0.0925), (0.5853, 0.1278), 2010]\n",
      "[['00038441'], 'HW', 'SZ', 'FAT', '2020-12-22 15:45:40', 'L', 29, 242, 74.0345, 3.5705, 0.3671, 0.1393, 5.6721, 3.8367, (1.1101, 0.1908), (0.3919, 0.1476), (0.7632, 0.0925), (0.5897, 0.1236), 2013]\n",
      "[['00038441'], 'HW', 'SZ', 'FAT', '2020-12-22 15:45:40', 'R', 29, 242, 74.0345, 3.5705, 0.3671, 0.1393, 5.6721, 3.8367, (1.1101, 0.1908), (0.3919, 0.1476), (0.7632, 0.0925), (0.5897, 0.1236), 2013, 269, 860, 69.9628, 5.131, 0.3814, 0.1282, 5.264, 3.6154, (1.1182, 0.1773), (0.4062, 0.136), (0.7613, 0.0825), (0.5829, 0.1068), 2013]\n"
     ]
    },
    {
     "ename": "ValueError",
     "evalue": "could not convert string to float: ",
     "output_type": "error",
     "traceback": [
      "\u001b[0;31m---------------------------------------------------------------------------\u001b[0m",
      "\u001b[0;31mValueError\u001b[0m                                Traceback (most recent call last)",
      "\u001b[0;32m<ipython-input-133-e023f7b42aeb>\u001b[0m in \u001b[0;36m<module>\u001b[0;34m\u001b[0m\n\u001b[1;32m     15\u001b[0m                 \u001b[0;32mwith\u001b[0m \u001b[0mopen\u001b[0m\u001b[0;34m(\u001b[0m\u001b[0mpath2\u001b[0m\u001b[0;34m,\u001b[0m \u001b[0;34m'r'\u001b[0m\u001b[0;34m)\u001b[0m \u001b[0;32mas\u001b[0m \u001b[0mfp\u001b[0m\u001b[0;34m:\u001b[0m\u001b[0;34m\u001b[0m\u001b[0;34m\u001b[0m\u001b[0m\n\u001b[1;32m     16\u001b[0m                     \u001b[0mline\u001b[0m \u001b[0;34m=\u001b[0m \u001b[0mfp\u001b[0m\u001b[0;34m.\u001b[0m\u001b[0mreadlines\u001b[0m\u001b[0;34m(\u001b[0m\u001b[0;34m)\u001b[0m\u001b[0;34m\u001b[0m\u001b[0;34m\u001b[0m\u001b[0m\n\u001b[0;32m---> 17\u001b[0;31m                     \u001b[0minfo\u001b[0m \u001b[0;34m=\u001b[0m \u001b[0mextract_stats\u001b[0m\u001b[0;34m(\u001b[0m\u001b[0mline\u001b[0m\u001b[0;34m,\u001b[0m \u001b[0mgroup\u001b[0m \u001b[0;34m=\u001b[0m \u001b[0;34m[\u001b[0m\u001b[0mtr\u001b[0m\u001b[0;34m]\u001b[0m\u001b[0;34m)\u001b[0m\u001b[0;34m\u001b[0m\u001b[0;34m\u001b[0m\u001b[0m\n\u001b[0m\u001b[1;32m     18\u001b[0m                 \u001b[0mvals\u001b[0m \u001b[0;34m=\u001b[0m \u001b[0;34m[\u001b[0m\u001b[0;34m]\u001b[0m\u001b[0;34m\u001b[0m\u001b[0;34m\u001b[0m\u001b[0m\n\u001b[1;32m     19\u001b[0m                 \u001b[0;32mfor\u001b[0m \u001b[0mside\u001b[0m \u001b[0;32min\u001b[0m \u001b[0minfo\u001b[0m\u001b[0;34m[\u001b[0m\u001b[0mtr\u001b[0m\u001b[0;34m]\u001b[0m\u001b[0;34m.\u001b[0m\u001b[0mkeys\u001b[0m\u001b[0;34m(\u001b[0m\u001b[0;34m)\u001b[0m\u001b[0;34m:\u001b[0m\u001b[0;34m\u001b[0m\u001b[0;34m\u001b[0m\u001b[0m\n",
      "\u001b[0;32m<ipython-input-121-e77014a51afa>\u001b[0m in \u001b[0;36mextract_stats\u001b[0;34m(list_, group)\u001b[0m\n\u001b[1;32m     15\u001b[0m             \u001b[0mstats\u001b[0m \u001b[0;34m=\u001b[0m \u001b[0;34m{\u001b[0m\u001b[0;34m}\u001b[0m\u001b[0;34m\u001b[0m\u001b[0;34m\u001b[0m\u001b[0m\n\u001b[1;32m     16\u001b[0m             \u001b[0;32mfor\u001b[0m \u001b[0mj\u001b[0m \u001b[0;32min\u001b[0m \u001b[0mrange\u001b[0m\u001b[0;34m(\u001b[0m\u001b[0;36m7\u001b[0m\u001b[0;34m,\u001b[0m \u001b[0;36m11\u001b[0m\u001b[0;34m)\u001b[0m\u001b[0;34m:\u001b[0m\u001b[0;34m\u001b[0m\u001b[0;34m\u001b[0m\u001b[0m\n\u001b[0;32m---> 17\u001b[0;31m                 \u001b[0mstats\u001b[0m\u001b[0;34m[\u001b[0m\u001b[0mfind_type\u001b[0m\u001b[0;34m(\u001b[0m\u001b[0mlist_\u001b[0m\u001b[0;34m[\u001b[0m\u001b[0mi\u001b[0m\u001b[0;34m+\u001b[0m\u001b[0mj\u001b[0m\u001b[0;34m]\u001b[0m\u001b[0;34m)\u001b[0m\u001b[0;34m]\u001b[0m \u001b[0;34m=\u001b[0m \u001b[0mfind_mean_se\u001b[0m\u001b[0;34m(\u001b[0m\u001b[0mlist_\u001b[0m\u001b[0;34m[\u001b[0m\u001b[0mi\u001b[0m\u001b[0;34m+\u001b[0m\u001b[0mj\u001b[0m\u001b[0;34m]\u001b[0m\u001b[0;34m)\u001b[0m\u001b[0;34m\u001b[0m\u001b[0;34m\u001b[0m\u001b[0m\n\u001b[0m\u001b[1;32m     18\u001b[0m             \u001b[0;32mif\u001b[0m \u001b[0mlen\u001b[0m\u001b[0;34m(\u001b[0m\u001b[0mstats\u001b[0m\u001b[0;34m)\u001b[0m \u001b[0;34m!=\u001b[0m \u001b[0;36m4\u001b[0m\u001b[0;34m:\u001b[0m\u001b[0;34m\u001b[0m\u001b[0;34m\u001b[0m\u001b[0m\n\u001b[1;32m     19\u001b[0m                 \u001b[0mprint\u001b[0m\u001b[0;34m(\u001b[0m\u001b[0;34m'not enough stats'\u001b[0m\u001b[0;34m)\u001b[0m\u001b[0;34m\u001b[0m\u001b[0;34m\u001b[0m\u001b[0m\n",
      "\u001b[0;32m<ipython-input-120-9138695e29c0>\u001b[0m in \u001b[0;36mfind_mean_se\u001b[0;34m(str_)\u001b[0m\n\u001b[1;32m      3\u001b[0m \u001b[0;34m\u001b[0m\u001b[0m\n\u001b[1;32m      4\u001b[0m \u001b[0;32mdef\u001b[0m \u001b[0mfind_mean_se\u001b[0m\u001b[0;34m(\u001b[0m\u001b[0mstr_\u001b[0m\u001b[0;34m)\u001b[0m\u001b[0;34m:\u001b[0m\u001b[0;34m\u001b[0m\u001b[0;34m\u001b[0m\u001b[0m\n\u001b[0;32m----> 5\u001b[0;31m     \u001b[0mmean\u001b[0m \u001b[0;34m=\u001b[0m \u001b[0mfloat\u001b[0m\u001b[0;34m(\u001b[0m\u001b[0mre\u001b[0m\u001b[0;34m.\u001b[0m\u001b[0mfindall\u001b[0m\u001b[0;34m(\u001b[0m\u001b[0;34m'(?<=: )([.0-9]*)'\u001b[0m\u001b[0;34m,\u001b[0m \u001b[0mstr_\u001b[0m\u001b[0;34m)\u001b[0m\u001b[0;34m[\u001b[0m\u001b[0;36m0\u001b[0m\u001b[0;34m]\u001b[0m\u001b[0;34m)\u001b[0m\u001b[0;34m\u001b[0m\u001b[0;34m\u001b[0m\u001b[0m\n\u001b[0m\u001b[1;32m      6\u001b[0m     \u001b[0mse\u001b[0m \u001b[0;34m=\u001b[0m \u001b[0mfloat\u001b[0m\u001b[0;34m(\u001b[0m\u001b[0mre\u001b[0m\u001b[0;34m.\u001b[0m\u001b[0mfindall\u001b[0m\u001b[0;34m(\u001b[0m\u001b[0;34m'(?<=- )([.0-9]*)'\u001b[0m\u001b[0;34m,\u001b[0m \u001b[0mstr_\u001b[0m\u001b[0;34m)\u001b[0m\u001b[0;34m[\u001b[0m\u001b[0;36m0\u001b[0m\u001b[0;34m]\u001b[0m\u001b[0;34m)\u001b[0m\u001b[0;34m\u001b[0m\u001b[0;34m\u001b[0m\u001b[0m\n\u001b[1;32m      7\u001b[0m     \u001b[0;32mreturn\u001b[0m \u001b[0mmean\u001b[0m\u001b[0;34m,\u001b[0m \u001b[0mse\u001b[0m\u001b[0;34m\u001b[0m\u001b[0;34m\u001b[0m\u001b[0m\n",
      "\u001b[0;31mValueError\u001b[0m: could not convert string to float: "
     ]
    }
   ],
   "source": [
    "i = 0\n",
    "for tr in TRACTS:\n",
    "    for cnd in CONDS: \n",
    "        path = f'{DATA_PATH}/{cnd}/COBRE_prep/{cnd}_Stats/{tr}'\n",
    "        sub_dirs = next(os.walk(path))[1]\n",
    "        for admin in sub_dirs: \n",
    "            \n",
    "            files = [x for x in os.listdir(os.path.join(path, admin)) if x.startswith('sub')]\n",
    "            for f in files:\n",
    "                subnum = re.findall('(?<=sub-A)([0-9]*)', f)[0]\n",
    "                path2 = os.path.join(path, admin, f)\n",
    "                dt = os.path.getmtime(path2)\n",
    "                dt = datetime.fromtimestamp(dt).strftime('%Y-%m-%d %H:%M:%S')\n",
    "                \n",
    "                with open(path2, 'r') as fp: \n",
    "                    line = fp.readlines()\n",
    "                    info = extract_stats(line, group = [tr])\n",
    "                vals = []\n",
    "                for side in info[tr].keys():\n",
    "                    for k in info[tr][side].keys():\n",
    "                        vals.append(info[tr][side][k])\n",
    "                    full_list = [subnum, admin, cnd, tr, dt, side]\n",
    "                    full_list.extend(vals)\n",
    "                    print(full_list)\n",
    "                    i += 1"
   ]
  },
  {
   "cell_type": "code",
   "execution_count": 39,
   "metadata": {},
   "outputs": [
    {
     "data": {
      "text/plain": [
       "'2020-05-17 21:26:16'"
      ]
     },
     "execution_count": 39,
     "metadata": {},
     "output_type": "execute_result"
    }
   ],
   "source": [
    "from datetime import datetime\n"
   ]
  },
  {
   "cell_type": "code",
   "execution_count": 38,
   "metadata": {},
   "outputs": [],
   "source": [
    "tmp = os.path.getmtime('')\n",
    "datetime.fromtimestamp(tmp).strftime('%Y-%m-%d %H:%M:%S')"
   ]
  },
  {
   "cell_type": "code",
   "execution_count": null,
   "metadata": {},
   "outputs": [],
   "source": []
  }
 ],
 "metadata": {
  "kernelspec": {
   "display_name": "Python 3",
   "language": "python",
   "name": "python3"
  },
  "language_info": {
   "codemirror_mode": {
    "name": "ipython",
    "version": 3
   },
   "file_extension": ".py",
   "mimetype": "text/x-python",
   "name": "python",
   "nbconvert_exporter": "python",
   "pygments_lexer": "ipython3",
   "version": "3.7.4"
  }
 },
 "nbformat": 4,
 "nbformat_minor": 4
}
