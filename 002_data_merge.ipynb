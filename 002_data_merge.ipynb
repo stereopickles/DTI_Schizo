{
 "cells": [
  {
   "cell_type": "markdown",
   "metadata": {},
   "source": [
    "# Data Merge\n",
    "This notebook describes steps to pull the stats from the txt files and combine them to create the final data structure."
   ]
  },
  {
   "cell_type": "code",
   "execution_count": 99,
   "metadata": {},
   "outputs": [],
   "source": [
    "import pandas as pd\n",
    "import numpy as np\n",
    "import matplotlib.pyplot as plt\n",
    "%matplotlib inline\n",
    "\n",
    "import os\n",
    "import re\n",
    "from collections import OrderedDict\n"
   ]
  },
  {
   "cell_type": "markdown",
   "metadata": {},
   "source": [
    "### Location Path\n",
    "Define the location of files here."
   ]
  },
  {
   "cell_type": "code",
   "execution_count": 19,
   "metadata": {},
   "outputs": [],
   "source": [
    "DATA_PATH = '/Users/stereopickles/CU_Google_Drive/COLUMBIA/DSI-Schizo/Data2020/DATA040320'\n",
    "HC_PATH = f\"{DATA_PATH}/HC/COBRE_prep/HC_Stats\"\n",
    "SZ_PATH = f\"{DATA_PATH}/SZ/COBRE_prep/SZ_Stats\"\n",
    "HC_FAT_DTI_PATH = f'{HC_PATH}/FAT'\n",
    "SZ_FAT_DTI_PATH = f'{SZ_PATH}/FAT'\n",
    "HC_UF_DTI_PATH = f'{HC_PATH}/UF'\n",
    "SZ_UF_DTI_PATH = f'{SZ_PATH}/UF'"
   ]
  },
  {
   "cell_type": "code",
   "execution_count": 31,
   "metadata": {},
   "outputs": [],
   "source": [
    "TRACTS = ['FAT', 'UF']\n",
    "CONDS = ['SZ', 'HC']"
   ]
  },
  {
   "cell_type": "markdown",
   "metadata": {},
   "source": [
    "### Extract stats \n",
    "The resulting table should look like \n",
    "| subnum | admin | condition | tract | datetime | side | track_count | voxel_count | mean_length | mean_FA_trk | mean_Ang | mean_FA | mean_AD | mean_MD | mean_RD | "
   ]
  },
  {
   "cell_type": "code",
   "execution_count": 56,
   "metadata": {},
   "outputs": [],
   "source": [
    "df = pd.DataFrame(\n",
    "    columns = ['subnum',\n",
    "               'admin',\n",
    "               'condition',\n",
    "               'tract',\n",
    "               'datetime_extracted',\n",
    "               'yr_scanned',\n",
    "               'side',\n",
    "               'track_count',\n",
    "               'voxel_count',\n",
    "               'mean_length', 'se_length',\n",
    "               'mean_FA_trk', 'se_FA_trk',\n",
    "               'mean_Ang', 'se_Ang_trk', \n",
    "               'mean_FA', 'se_FA_trk',\n",
    "               'mean_AD', 'se_AD_trk',\n",
    "               'mean_MD', 'se_MD_trk', \n",
    "               'mean_RD', 'se_RD_trk'])"
   ]
  },
  {
   "cell_type": "code",
   "execution_count": 151,
   "metadata": {},
   "outputs": [],
   "source": [
    "def find_num(str_):\n",
    "    return int(re.findall('(?<=: )([.0-9]*)', str_)[0])\n",
    "\n",
    "def find_mean_se(str_):\n",
    "    mean = float([x if x != 'nan' else 0 for x in re.findall('(?<=: )([na.0-9]*)', str_)][0])\n",
    "    se = float(re.findall('(?<=- )([.0-9]*)', str_)[0])\n",
    "    return mean, se\n",
    "\n",
    "def find_type(str_):\n",
    "    return re.findall('(?<=DTI_)([A-Z]*)', str_)[0]\n",
    "\n",
    "def find_year(str_):\n",
    "    return int(re.findall('(?<=ses-)([0-9]*)', str_)[0][:4])"
   ]
  },
  {
   "cell_type": "code",
   "execution_count": 152,
   "metadata": {},
   "outputs": [],
   "source": [
    "def extract_stats(list_, group = ['FAT', 'UF']):\n",
    "    ''' From a list of lines extract information '''\n",
    "    result = {}\n",
    "    for i in range(0, len(list_), 12):\n",
    "        grp = re.findall('(?<=: )(.*)(?=\\\\n)', list_[i])[0]\n",
    "        trk_group = grp[:3]\n",
    "        side = grp[-1]\n",
    "        if trk_group in group:\n",
    "            trk_cnt = find_num(list_[i+1])\n",
    "            vxl_cnt = find_num(list_[i+2])\n",
    "            mean_length, se_length = find_mean_se(list_[i+4])\n",
    "            mean_fatrk, se_fatrk = find_mean_se(list_[i+5])\n",
    "            mean_angtrk, se_angtrk = find_mean_se(list_[i+6])\n",
    "            yr_scan = find_year(list_[i+7])\n",
    "            stats = {}\n",
    "            for j in range(7, 11):\n",
    "                stats[find_type(list_[i+j])] = find_mean_se(list_[i+j])\n",
    "            if len(stats) != 4: \n",
    "                print('not enough stats')\n",
    "            info = {'track_count': trk_cnt, \n",
    "                    'voxel_count': vxl_cnt, \n",
    "                    'mean_length': mean_length, \n",
    "                    'se_length': se_length, \n",
    "                    'mean_fatrk': mean_fatrk, \n",
    "                    'se_fatrk': se_fatrk, \n",
    "                    'mean_angtrk': mean_angtrk, \n",
    "                    'se_angtrk': se_angtrk, \n",
    "                    'mean_AD': stats['AD'][0], \n",
    "                    'se_AD': stats['AD'][1], \n",
    "                    'mean_FA': stats['FA'][0], \n",
    "                    'se_FA': stats['FA'][1],\n",
    "                    'mean_MD': stats['MD'][0], \n",
    "                    'se_MD': stats['MD'][1],\n",
    "                    'mean_RD': stats['RD'][0], \n",
    "                    'se_RD': stats['RD'][1],\n",
    "                    'yr_scan': yr_scan\n",
    "                   }\n",
    "            if trk_group in result:\n",
    "                result[trk_group][side] = info\n",
    "            else:\n",
    "                result[trk_group] = {side: info}\n",
    "        else:\n",
    "            continue\n",
    "    return result"
   ]
  },
  {
   "cell_type": "code",
   "execution_count": 153,
   "metadata": {},
   "outputs": [
    {
     "data": {
      "text/plain": [
       "{'FAT': {'L': {'track_count': 0,\n",
       "   'voxel_count': 0,\n",
       "   'mean_length': 0.0,\n",
       "   'se_length': 0.0,\n",
       "   'mean_fatrk': 0.0,\n",
       "   'se_fatrk': 0.0,\n",
       "   'mean_angtrk': 0.0,\n",
       "   'se_angtrk': 0.0,\n",
       "   'mean_AD': 0.0,\n",
       "   'se_AD': 0.0,\n",
       "   'mean_FA': 0.0,\n",
       "   'se_FA': 0.0,\n",
       "   'mean_MD': 0.0,\n",
       "   'se_MD': 0.0,\n",
       "   'mean_RD': 0.0,\n",
       "   'se_RD': 0.0,\n",
       "   'yr_scan': 2013},\n",
       "  'R': {'track_count': 0,\n",
       "   'voxel_count': 0,\n",
       "   'mean_length': 0.0,\n",
       "   'se_length': 0.0,\n",
       "   'mean_fatrk': 0.0,\n",
       "   'se_fatrk': 0.0,\n",
       "   'mean_angtrk': 0.0,\n",
       "   'se_angtrk': 0.0,\n",
       "   'mean_AD': 0.0,\n",
       "   'se_AD': 0.0,\n",
       "   'mean_FA': 0.0,\n",
       "   'se_FA': 0.0,\n",
       "   'mean_MD': 0.0,\n",
       "   'se_MD': 0.0,\n",
       "   'mean_RD': 0.0,\n",
       "   'se_RD': 0.0,\n",
       "   'yr_scan': 2013}}}"
      ]
     },
     "execution_count": 153,
     "metadata": {},
     "output_type": "execute_result"
    }
   ],
   "source": [
    "extract_stats(line)"
   ]
  },
  {
   "cell_type": "code",
   "execution_count": 155,
   "metadata": {},
   "outputs": [
    {
     "ename": "StopIteration",
     "evalue": "",
     "output_type": "error",
     "traceback": [
      "\u001b[0;31m---------------------------------------------------------------------------\u001b[0m",
      "\u001b[0;31mStopIteration\u001b[0m                             Traceback (most recent call last)",
      "\u001b[0;32m<ipython-input-155-509b481c660a>\u001b[0m in \u001b[0;36m<module>\u001b[0;34m\u001b[0m\n\u001b[1;32m      3\u001b[0m     \u001b[0;32mfor\u001b[0m \u001b[0mcnd\u001b[0m \u001b[0;32min\u001b[0m \u001b[0mCONDS\u001b[0m\u001b[0;34m:\u001b[0m\u001b[0;34m\u001b[0m\u001b[0;34m\u001b[0m\u001b[0m\n\u001b[1;32m      4\u001b[0m         \u001b[0mpath\u001b[0m \u001b[0;34m=\u001b[0m \u001b[0;34mf'{DATA_PATH}/{cnd}/COBRE_prep/{cnd}_Stats/{tr}'\u001b[0m\u001b[0;34m\u001b[0m\u001b[0;34m\u001b[0m\u001b[0m\n\u001b[0;32m----> 5\u001b[0;31m         \u001b[0msub_dirs\u001b[0m \u001b[0;34m=\u001b[0m \u001b[0mnext\u001b[0m\u001b[0;34m(\u001b[0m\u001b[0mos\u001b[0m\u001b[0;34m.\u001b[0m\u001b[0mwalk\u001b[0m\u001b[0;34m(\u001b[0m\u001b[0mpath\u001b[0m\u001b[0;34m)\u001b[0m\u001b[0;34m)\u001b[0m\u001b[0;34m[\u001b[0m\u001b[0;36m1\u001b[0m\u001b[0;34m]\u001b[0m\u001b[0;34m\u001b[0m\u001b[0;34m\u001b[0m\u001b[0m\n\u001b[0m\u001b[1;32m      6\u001b[0m         \u001b[0;32mfor\u001b[0m \u001b[0madmin\u001b[0m \u001b[0;32min\u001b[0m \u001b[0msub_dirs\u001b[0m\u001b[0;34m:\u001b[0m\u001b[0;34m\u001b[0m\u001b[0;34m\u001b[0m\u001b[0m\n\u001b[1;32m      7\u001b[0m \u001b[0;34m\u001b[0m\u001b[0m\n",
      "\u001b[0;31mStopIteration\u001b[0m: "
     ]
    }
   ],
   "source": [
    "i = 0\n",
    "for tr in TRACTS:\n",
    "    for cnd in CONDS: \n",
    "        path = f'{DATA_PATH}/{cnd}/COBRE_prep/{cnd}_Stats/{tr}'\n",
    "        sub_dirs = next(os.walk(path))[1]\n",
    "        for admin in sub_dirs: \n",
    "            \n",
    "            files = [x for x in os.listdir(os.path.join(path, admin)) if x.startswith('sub')]\n",
    "            for f in files:\n",
    "                subnum = re.findall('(?<=sub-A)([0-9]*)', f)[0]\n",
    "                path2 = os.path.join(path, admin, f)\n",
    "                dt = os.path.getmtime(path2)\n",
    "                dt = datetime.fromtimestamp(dt).strftime('%Y-%m-%d %H:%M:%S')\n",
    "                \n",
    "                with open(path2, 'r') as fp: \n",
    "                    line = fp.readlines()\n",
    "                    info = extract_stats(line, group = [tr])\n",
    "                vals = []\n",
    "                for side in info[tr].keys():\n",
    "                    for k in info[tr][side].keys():\n",
    "                        vals.append(info[tr][side][k])\n",
    "                    full_list = [subnum, admin, cnd, tr, dt, side]\n",
    "                    full_list.extend(vals)\n",
    "                    print(full_list)\n",
    "                    i += 1"
   ]
  },
  {
   "cell_type": "code",
   "execution_count": 39,
   "metadata": {},
   "outputs": [
    {
     "data": {
      "text/plain": [
       "'2020-05-17 21:26:16'"
      ]
     },
     "execution_count": 39,
     "metadata": {},
     "output_type": "execute_result"
    }
   ],
   "source": [
    "from datetime import datetime\n"
   ]
  },
  {
   "cell_type": "code",
   "execution_count": 38,
   "metadata": {},
   "outputs": [],
   "source": [
    "tmp = os.path.getmtime('')\n",
    "datetime.fromtimestamp(tmp).strftime('%Y-%m-%d %H:%M:%S')"
   ]
  },
  {
   "cell_type": "code",
   "execution_count": null,
   "metadata": {},
   "outputs": [],
   "source": []
  }
 ],
 "metadata": {
  "kernelspec": {
   "display_name": "Python 3",
   "language": "python",
   "name": "python3"
  },
  "language_info": {
   "codemirror_mode": {
    "name": "ipython",
    "version": 3
   },
   "file_extension": ".py",
   "mimetype": "text/x-python",
   "name": "python",
   "nbconvert_exporter": "python",
   "pygments_lexer": "ipython3",
   "version": "3.7.4"
  }
 },
 "nbformat": 4,
 "nbformat_minor": 4
}
