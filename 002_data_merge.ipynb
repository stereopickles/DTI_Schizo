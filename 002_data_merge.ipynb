{
 "cells": [
  {
   "cell_type": "markdown",
   "metadata": {},
   "source": [
    "# Data Merge\n",
    "This notebook describes steps to pull the stats from the txt files and combine them to create the final data structure."
   ]
  },
  {
   "cell_type": "code",
   "execution_count": 77,
   "metadata": {},
   "outputs": [],
   "source": [
    "import pandas as pd\n",
    "import numpy as np\n",
    "import matplotlib.pyplot as plt\n",
    "import seaborn as sns\n",
    "%matplotlib inline\n",
    "\n",
    "import os\n",
    "import re\n",
    "from collections import OrderedDict\n",
    "from datetime import datetime"
   ]
  },
  {
   "cell_type": "markdown",
   "metadata": {},
   "source": [
    "### Location Path\n",
    "Define the location of files here."
   ]
  },
  {
   "cell_type": "code",
   "execution_count": 78,
   "metadata": {},
   "outputs": [],
   "source": [
    "DATA_PATH = '/Users/stereopickles/CU_Google_Drive/COLUMBIA/DSI-Schizo/Data2020/DATA040320'\n",
    "HC_PATH = f\"{DATA_PATH}/HC/COBRE_prep/HC_Stats\"\n",
    "SZ_PATH = f\"{DATA_PATH}/SZ/COBRE_prep/SZ_Stats\"\n",
    "HC_FAT_DTI_PATH = f'{HC_PATH}/FAT'\n",
    "SZ_FAT_DTI_PATH = f'{SZ_PATH}/FAT'\n",
    "HC_UF_DTI_PATH = f'{HC_PATH}/UF'\n",
    "SZ_UF_DTI_PATH = f'{SZ_PATH}/UF'"
   ]
  },
  {
   "cell_type": "code",
   "execution_count": 79,
   "metadata": {},
   "outputs": [],
   "source": [
    "TRACTS = ['FAT', 'UF']\n",
    "CONDS = ['SZ', 'HC']"
   ]
  },
  {
   "cell_type": "code",
   "execution_count": 80,
   "metadata": {},
   "outputs": [],
   "source": [
    "# full subject lists\n",
    "\n",
    "with open(f'{DATA_PATH}/subject_list.txt', 'r') as f: \n",
    "    subjects = f.read()\n",
    "    \n",
    "subjects = [re.sub('A', '', x) for x in subjects.split('\\n')]"
   ]
  },
  {
   "cell_type": "markdown",
   "metadata": {},
   "source": [
    "### Extract stats \n",
    "The resulting table should look like \n",
    "| subnum | admin | condition | tract | datetime | side | track_count | voxel_count | mean_length | mean_FA_trk | mean_Ang | mean_FA | mean_AD | mean_MD | mean_RD | "
   ]
  },
  {
   "cell_type": "code",
   "execution_count": 81,
   "metadata": {},
   "outputs": [],
   "source": [
    "def find_num(str_):\n",
    "    return int(re.findall('(?<=: )([.0-9]*)', str_)[0])\n",
    "\n",
    "def find_mean_se(str_):\n",
    "    mean = float([x if x != 'nan' else 0 for x in re.findall('(?<=: )([na.0-9]*)', str_)][0])\n",
    "    se = float(re.findall('(?<=- )([.0-9]*)', str_)[0])\n",
    "    return mean, se\n",
    "\n",
    "def find_type(str_):\n",
    "    return re.findall('(?<=DTI_)([A-Z]*)', str_)[0]\n",
    "\n",
    "def find_year(str_):\n",
    "    return int(re.findall('(?<=ses-)([0-9]*)', str_)[0][:4])"
   ]
  },
  {
   "cell_type": "code",
   "execution_count": 135,
   "metadata": {},
   "outputs": [],
   "source": [
    "def extract_stats(list_, group = {'FAT', 'UF'}):\n",
    "    ''' From a list of lines extract information '''\n",
    "    result = {}\n",
    "    for i in range(0, len(list_), 12): # iterate every 12 lines\n",
    "        \n",
    "        # find tract groups\n",
    "        grp = re.findall('(?<=: )(.*)(?=\\\\n)', list_[i])[0]\n",
    "        trk_group = re.findall('(FAT|UF)', grp)[0]\n",
    "        \n",
    "        # find which hemisphere\n",
    "        side = grp[-1]\n",
    "        \n",
    "        if trk_group in group:\n",
    "            # get stats\n",
    "            trk_cnt = find_num(list_[i+1]) # track count\n",
    "            vxl_cnt = find_num(list_[i+2]) # voxel count\n",
    "            mean_length, se_length = find_mean_se(list_[i+4]) # mean length + se length\n",
    "            mean_fatrk, se_fatrk = find_mean_se(list_[i+5]) # mean fa track + se fa track\n",
    "            mean_angtrk, se_angtrk = find_mean_se(list_[i+6]) # mean ang track + se \n",
    "            yr_scan = find_year(list_[i+7]) # year scanned\n",
    "            stats = {}\n",
    "            \n",
    "            # AD, MD, RD, FA values\n",
    "            for j in range(7, 11): \n",
    "                stats[find_type(list_[i+j])] = find_mean_se(list_[i+j])\n",
    "            \n",
    "            # if all 4 are not there something's wrong\n",
    "            if len(stats) != 4: \n",
    "                print('not enough stats')\n",
    "            \n",
    "            # compile\n",
    "            info = {'track_count': trk_cnt, \n",
    "                    'voxel_count': vxl_cnt, \n",
    "                    'mean_length': mean_length, \n",
    "                    'se_length': se_length, \n",
    "                    'mean_fatrk': mean_fatrk, \n",
    "                    'se_fatrk': se_fatrk, \n",
    "                    'mean_angtrk': mean_angtrk, \n",
    "                    'se_angtrk': se_angtrk, \n",
    "                    'mean_AD': stats['AD'][0], \n",
    "                    'se_AD': stats['AD'][1], \n",
    "                    'mean_FA': stats['FA'][0], \n",
    "                    'se_FA': stats['FA'][1],\n",
    "                    'mean_MD': stats['MD'][0], \n",
    "                    'se_MD': stats['MD'][1],\n",
    "                    'mean_RD': stats['RD'][0], \n",
    "                    'se_RD': stats['RD'][1],\n",
    "                    'yr_scan': yr_scan\n",
    "                   }\n",
    "            \n",
    "            # log\n",
    "            if trk_group in result:\n",
    "                result[trk_group][side] = info\n",
    "            else:\n",
    "                result[trk_group] = {side: info}\n",
    "        else:\n",
    "            continue\n",
    "    return result"
   ]
  },
  {
   "cell_type": "code",
   "execution_count": 136,
   "metadata": {},
   "outputs": [],
   "source": [
    "df = pd.DataFrame(\n",
    "    columns = ['subnum', 'admin', 'condition', 'tract', 'datetime_extracted', 'side', 'note',\n",
    "               'track_count', 'voxel_count', 'mean_length', 'se_length',  'mean_fatrk',\n",
    "               'se_fatrk', 'mean_angtrk', 'se_angtrk', 'mean_AD', 'se_AD', 'mean_FA',\n",
    "               'se_FA', 'mean_MD', 'se_MD', 'mean_RD', 'se_RD', 'yr_scan'])"
   ]
  },
  {
   "cell_type": "code",
   "execution_count": 137,
   "metadata": {},
   "outputs": [],
   "source": [
    "def process_file(fp, fn, cnd, trs = {'FAT', 'UF'}, admin = None): \n",
    "    ''' \n",
    "    INPUT\n",
    "    =======\n",
    "    fp: file path\n",
    "    fn: file name \n",
    "    cnd: condition (SZ or HC)\n",
    "    trs: a set of tracts to include \n",
    "    admin: the name of admin (default: None)\n",
    "    \n",
    "    OUTPUT\n",
    "    =======\n",
    "    a nested list of stats in this order: \n",
    "    [[subnum, admin, cnd, tr, dt, side, note, {stats}], ...]\n",
    "\n",
    "    '''\n",
    "    \n",
    "    # check if the file exists\n",
    "    if os.path.exists(fp): \n",
    "        pass\n",
    "    else:\n",
    "        fp = fp[:-4]\n",
    "        if os.path.exists(fp): \n",
    "            pass\n",
    "        else:\n",
    "            print(f'The file does not exist: {fp}')\n",
    "        \n",
    "\n",
    "    # get modified time\n",
    "    dt = os.path.getmtime(fp)\n",
    "    dt = datetime.fromtimestamp(dt).strftime('%Y-%m-%d %H:%M:%S')\n",
    "\n",
    "    # get subject number and notes from the file name\n",
    "    subnum, note = re.findall('(?<=sub-A)([0-9]*)(.*)(?=.txt)', fn)[0]\n",
    "    print(f'{subnum}', end = '')\n",
    "\n",
    "    # open file and extract stats\n",
    "    with open(fp, 'r') as f: \n",
    "        line = f.readlines()\n",
    "        line = [re.sub('(?:(?<=FAT)|(?<=UF))_', '', x) for x in line]\n",
    "        info = extract_stats(line, group = trs)\n",
    "    \n",
    "    result = []\n",
    "    # if info is not empty, create a list\n",
    "    if info:\n",
    "        print('(o)', end = ' ')\n",
    "        for tr in trs: \n",
    "            for side in info[tr].keys():\n",
    "                # one entry per side X tracts\n",
    "                vals = []\n",
    "                for k in info[tr][side].keys():\n",
    "                    vals.append(info[tr][side][k])\n",
    "                full_list = [subnum, admin, cnd, tr, dt, side, note]\n",
    "                full_list.extend(vals)\n",
    "                result.append(full_list)\n",
    "\n",
    "    else:\n",
    "        print('(x)', end = ' ')\n",
    "\n",
    "    return result\n"
   ]
  },
  {
   "cell_type": "code",
   "execution_count": 138,
   "metadata": {},
   "outputs": [
    {
     "name": "stdout",
     "output_type": "stream",
     "text": [
      "SZ_FAT\n",
      "=======\n",
      "HW\n",
      "-------\n",
      "00024684(o) 00038441(o) 00035836(o) 00020787(o) 00014636(o) 00027969(o) 00019349(o) 00037854(o) 00024568(o) 00024959(o) 00023158(o) 00038624(o) 00037649(o) 00038172(o) 00023750(o) 00027537(o) 00028189(o) 00024228(o) 00028404(o) 00027119(o) 00035859(o) 00022500(o) 00024953(o) 00024198(o) 00035485(o) 00023243(o) 00037034(o) 00020602(o) 00027391(o) 00037619(o) 00027755(o) 00037224(o) 00023246(o) \n",
      "\n",
      "IR\n",
      "-------\n",
      "\n",
      "\n",
      "SS\n",
      "-------\n",
      "00018598(o) 00017147(o) 00000909(o) 00001243(o) 00020414(o) 00016720(o) 00018403(o) 00014804(o) 00016197(o) 00015518(o) 00001251(o) 00014175(o) 00018317(o) 00001452(o) 00000368(o) 00009280(o) 00015648(o) 00020416(o) 00016723(o) 00014607(o) 00000456(o) 00000838(o) 00014830(o) 00014719(o) 00018129(o) 00000541(o) 00018979(o) 00019293(o) \n",
      "\n",
      "HC_FAT\n",
      "=======\n",
      "HW\n",
      "-------\n",
      "00020805(o) 00025969(o) 00021058(o) 00013363(o) 00003150(o) 00021072(o) 00026907(o) 00018553(o) 00037007(o) 00014225(o) 00028052(o) 00024535(o) 00010684(o) 00022490(o) 00011265(o) 00004087(o) 00022727(o) 00014120(o) 00022653(o) 00010150(o) 00022509(o) 00015826(o) 00014898(o) 00012995(o) 00037495(o) 00022729(o) 00020895(o) 00011725(o) 00022773(o) 00013140(o) 00000300(o) 00022592(o) 00021085(o) 00013816(o) 00020984(o) 00019888(o) 00007409(o) 00021081(o) 00007409(o) 00024932(o) 00020968(o) 00022400(o) 00017294(o) \n",
      "\n",
      "IR\n",
      "-------\n",
      "\n",
      "\n",
      "SS\n",
      "-------\n",
      "00024955(o) 00024301(o) 00036916(o) 00023848(o) 00023131(o) 00024546(o) \n",
      "\n",
      "SZ_UF\n",
      "=======\n",
      "HW\n",
      "-------\n",
      "00024684(o) 00038441(o) 00035836(o) 00020787(o) 00014636(o) 00027969(o) 00019349(o) 00037854(o) 00024568(o) 00024959(o) 00023158(o) 00038624(o) 00037649(o) 00038172(o) 00023750(o) 00027537(o) 00028189(o) 00024228(o) 00028404(o) 00027119(o) 00035859(o) 00022500(o) 00024953(o) 00024198(o) 00035485(o) 00023243(o) 00037034(o) 00020602(o) 00027391(o) 00037619(o) 00027755(o) 00037224(o) 00023246(o) \n",
      "\n",
      "IR\n",
      "-------\n",
      "\n",
      "\n",
      "SS\n",
      "-------\n",
      "\n",
      "\n",
      "HC_UF\n",
      "=======\n",
      "HW\n",
      "-------\n",
      "00020805(o) 00025969(o) 00021058(o) 00013363(o) 00003150(o) 00021072(o) 00026907(o) 00018553(o) 00037007(o) 00014225(o) 00028052(o) 00024535(o) 00010684(o) 00022490(o) 00011265(o) 00037238(o) 00004087(o) 00022727(o) 00014120(o) 00022653(o) 00010150(o) 00022509(o) 00015826(o) 00014898(o) 00012995(o) 00037495(o) 00022729(o) 00020895(o) 00011725(o) 00022773(o) 00013140(o) 00000300(o) 00022592(o) 00021085(o) 00013816(o) 00020984(o) 00019888(o) 00007409(o) 00021081(o) 00026945(o) 00007409(o) 00024932(o) 00020968(o) 00022400(o) 00017294(o) \n",
      "\n",
      "IR\n",
      "-------\n",
      "\n",
      "\n",
      "SS\n",
      "-------\n",
      "\n",
      "\n"
     ]
    }
   ],
   "source": [
    "#i = 0\n",
    "for tr in TRACTS:\n",
    "    for cnd in CONDS: \n",
    "        path = f'{DATA_PATH}/{cnd}/COBRE_prep/{cnd}_Stats/{tr}'\n",
    "        print(f'{cnd}_{tr}', end = '\\n=======\\n')\n",
    "        \n",
    "        # get the names of directories within path\n",
    "        try:\n",
    "            sub_dirs = next(os.walk(path))[1]\n",
    "        except StopIteration: \n",
    "            print(\"Directory doesn't exist\")\n",
    "            break\n",
    "            \n",
    "        # each sub-dir should be the name of administrator\n",
    "        for admin in sub_dirs: \n",
    "            print(f'{admin}', end = '\\n-------\\n')\n",
    "            \n",
    "            # get the list of files (must start with 'sub')\n",
    "            files = [x for x in os.listdir(os.path.join(path, admin)) if x.startswith('sub')]\n",
    "            \n",
    "            # add extension if it doesn't have one\n",
    "            files = [f if f.endswith('.txt') else f + '.txt' for f in files]\n",
    "            \n",
    "            for fn in files:\n",
    "                \n",
    "                fp = os.path.join(path, admin, fn)\n",
    "                result = process_file(fp, fn, cnd, trs = {tr}, admin = admin) \n",
    "                \n",
    "                for x in result: \n",
    "                    df.loc[len(df)+1] = x\n",
    "                \n",
    "            print('\\n')"
   ]
  },
  {
   "cell_type": "code",
   "execution_count": 139,
   "metadata": {},
   "outputs": [
    {
     "data": {
      "text/html": [
       "<div>\n",
       "<style scoped>\n",
       "    .dataframe tbody tr th:only-of-type {\n",
       "        vertical-align: middle;\n",
       "    }\n",
       "\n",
       "    .dataframe tbody tr th {\n",
       "        vertical-align: top;\n",
       "    }\n",
       "\n",
       "    .dataframe thead th {\n",
       "        text-align: right;\n",
       "    }\n",
       "</style>\n",
       "<table border=\"1\" class=\"dataframe\">\n",
       "  <thead>\n",
       "    <tr style=\"text-align: right;\">\n",
       "      <th></th>\n",
       "      <th>subnum</th>\n",
       "      <th>admin</th>\n",
       "      <th>condition</th>\n",
       "      <th>tract</th>\n",
       "      <th>datetime_extracted</th>\n",
       "      <th>side</th>\n",
       "      <th>note</th>\n",
       "      <th>track_count</th>\n",
       "      <th>voxel_count</th>\n",
       "      <th>mean_length</th>\n",
       "      <th>...</th>\n",
       "      <th>se_angtrk</th>\n",
       "      <th>mean_AD</th>\n",
       "      <th>se_AD</th>\n",
       "      <th>mean_FA</th>\n",
       "      <th>se_FA</th>\n",
       "      <th>mean_MD</th>\n",
       "      <th>se_MD</th>\n",
       "      <th>mean_RD</th>\n",
       "      <th>se_RD</th>\n",
       "      <th>yr_scan</th>\n",
       "    </tr>\n",
       "  </thead>\n",
       "  <tbody>\n",
       "    <tr>\n",
       "      <th>20</th>\n",
       "      <td>00024959</td>\n",
       "      <td>HW</td>\n",
       "      <td>SZ</td>\n",
       "      <td>FAT</td>\n",
       "      <td>2020-11-24 02:27:58</td>\n",
       "      <td>R</td>\n",
       "      <td></td>\n",
       "      <td>160</td>\n",
       "      <td>677</td>\n",
       "      <td>75.1438</td>\n",
       "      <td>...</td>\n",
       "      <td>4.5760</td>\n",
       "      <td>1.1001</td>\n",
       "      <td>0.1945</td>\n",
       "      <td>0.4448</td>\n",
       "      <td>0.1285</td>\n",
       "      <td>0.7333</td>\n",
       "      <td>0.1395</td>\n",
       "      <td>0.5499</td>\n",
       "      <td>0.1539</td>\n",
       "      <td>2009</td>\n",
       "    </tr>\n",
       "    <tr>\n",
       "      <th>187</th>\n",
       "      <td>00021085</td>\n",
       "      <td>HW</td>\n",
       "      <td>HC</td>\n",
       "      <td>FAT</td>\n",
       "      <td>2020-12-22 14:59:10</td>\n",
       "      <td>L</td>\n",
       "      <td></td>\n",
       "      <td>170</td>\n",
       "      <td>539</td>\n",
       "      <td>68.8765</td>\n",
       "      <td>...</td>\n",
       "      <td>4.5170</td>\n",
       "      <td>1.1779</td>\n",
       "      <td>0.1760</td>\n",
       "      <td>0.4791</td>\n",
       "      <td>0.1446</td>\n",
       "      <td>0.7508</td>\n",
       "      <td>0.0809</td>\n",
       "      <td>0.5373</td>\n",
       "      <td>0.1176</td>\n",
       "      <td>2010</td>\n",
       "    </tr>\n",
       "    <tr>\n",
       "      <th>252</th>\n",
       "      <td>00027537</td>\n",
       "      <td>HW</td>\n",
       "      <td>SZ</td>\n",
       "      <td>UF</td>\n",
       "      <td>2020-11-24 02:42:02</td>\n",
       "      <td>R</td>\n",
       "      <td></td>\n",
       "      <td>463</td>\n",
       "      <td>1474</td>\n",
       "      <td>99.4363</td>\n",
       "      <td>...</td>\n",
       "      <td>4.4150</td>\n",
       "      <td>1.2241</td>\n",
       "      <td>0.1606</td>\n",
       "      <td>0.4091</td>\n",
       "      <td>0.1291</td>\n",
       "      <td>0.8308</td>\n",
       "      <td>0.1072</td>\n",
       "      <td>0.6341</td>\n",
       "      <td>0.1365</td>\n",
       "      <td>2011</td>\n",
       "    </tr>\n",
       "    <tr>\n",
       "      <th>126</th>\n",
       "      <td>00025969</td>\n",
       "      <td>HW</td>\n",
       "      <td>HC</td>\n",
       "      <td>FAT</td>\n",
       "      <td>2021-01-03 14:11:00</td>\n",
       "      <td>R</td>\n",
       "      <td></td>\n",
       "      <td>220</td>\n",
       "      <td>806</td>\n",
       "      <td>78.0909</td>\n",
       "      <td>...</td>\n",
       "      <td>3.8977</td>\n",
       "      <td>1.1904</td>\n",
       "      <td>0.1747</td>\n",
       "      <td>0.4533</td>\n",
       "      <td>0.1404</td>\n",
       "      <td>0.7836</td>\n",
       "      <td>0.1055</td>\n",
       "      <td>0.5802</td>\n",
       "      <td>0.1392</td>\n",
       "      <td>2009</td>\n",
       "    </tr>\n",
       "    <tr>\n",
       "      <th>96</th>\n",
       "      <td>00000368</td>\n",
       "      <td>SS</td>\n",
       "      <td>SZ</td>\n",
       "      <td>FAT</td>\n",
       "      <td>2020-12-23 14:37:29</td>\n",
       "      <td>R</td>\n",
       "      <td></td>\n",
       "      <td>415</td>\n",
       "      <td>1123</td>\n",
       "      <td>70.4675</td>\n",
       "      <td>...</td>\n",
       "      <td>3.7681</td>\n",
       "      <td>1.1968</td>\n",
       "      <td>0.2068</td>\n",
       "      <td>0.4455</td>\n",
       "      <td>0.1227</td>\n",
       "      <td>0.7859</td>\n",
       "      <td>0.1304</td>\n",
       "      <td>0.5804</td>\n",
       "      <td>0.1360</td>\n",
       "      <td>2011</td>\n",
       "    </tr>\n",
       "  </tbody>\n",
       "</table>\n",
       "<p>5 rows × 24 columns</p>\n",
       "</div>"
      ],
      "text/plain": [
       "       subnum admin condition tract   datetime_extracted side note  \\\n",
       "20   00024959    HW        SZ   FAT  2020-11-24 02:27:58    R        \n",
       "187  00021085    HW        HC   FAT  2020-12-22 14:59:10    L        \n",
       "252  00027537    HW        SZ    UF  2020-11-24 02:42:02    R        \n",
       "126  00025969    HW        HC   FAT  2021-01-03 14:11:00    R        \n",
       "96   00000368    SS        SZ   FAT  2020-12-23 14:37:29    R        \n",
       "\n",
       "    track_count voxel_count  mean_length  ...  se_angtrk  mean_AD   se_AD  \\\n",
       "20          160         677      75.1438  ...     4.5760   1.1001  0.1945   \n",
       "187         170         539      68.8765  ...     4.5170   1.1779  0.1760   \n",
       "252         463        1474      99.4363  ...     4.4150   1.2241  0.1606   \n",
       "126         220         806      78.0909  ...     3.8977   1.1904  0.1747   \n",
       "96          415        1123      70.4675  ...     3.7681   1.1968  0.2068   \n",
       "\n",
       "     mean_FA   se_FA  mean_MD   se_MD  mean_RD   se_RD  yr_scan  \n",
       "20    0.4448  0.1285   0.7333  0.1395   0.5499  0.1539     2009  \n",
       "187   0.4791  0.1446   0.7508  0.0809   0.5373  0.1176     2010  \n",
       "252   0.4091  0.1291   0.8308  0.1072   0.6341  0.1365     2011  \n",
       "126   0.4533  0.1404   0.7836  0.1055   0.5802  0.1392     2009  \n",
       "96    0.4455  0.1227   0.7859  0.1304   0.5804  0.1360     2011  \n",
       "\n",
       "[5 rows x 24 columns]"
      ]
     },
     "execution_count": 139,
     "metadata": {},
     "output_type": "execute_result"
    }
   ],
   "source": [
    "df.sample(5)"
   ]
  },
  {
   "cell_type": "markdown",
   "metadata": {},
   "source": [
    "## Get Missing Entries from the ARCHIVE\n",
    "Since all entries have been reviewed, if it's missing above, it means the old file didn't need to be updated after the review.  \n",
    "So we'll pull the missing subject information from the archived stat files.\n"
   ]
  },
  {
   "cell_type": "code",
   "execution_count": 198,
   "metadata": {},
   "outputs": [],
   "source": [
    "missing = [x for x in subjects if x != '' and x not in df.subnum.unique()]"
   ]
  },
  {
   "cell_type": "code",
   "execution_count": 199,
   "metadata": {},
   "outputs": [],
   "source": [
    "ARCHIVE_HC = f'{DATA_PATH}/HC/COBRE_prep/HC_Stats/ARCHIVE_06_2020'\n",
    "ARCHIVE_SZ = f'{DATA_PATH}/SZ/COBRE_prep/SZ_Stats/ARCHIVE_06_2020'"
   ]
  },
  {
   "cell_type": "code",
   "execution_count": 200,
   "metadata": {},
   "outputs": [],
   "source": [
    "HC_lists = [x for x in os.listdir(ARCHIVE_HC) if x.startswith('sub')]\n",
    "SZ_lists = [x for x in os.listdir(ARCHIVE_SZ) if x.startswith('sub')]"
   ]
  },
  {
   "cell_type": "code",
   "execution_count": 201,
   "metadata": {},
   "outputs": [],
   "source": [
    "HC_subjects = {re.findall('(?<=A)[0-9]*', x)[0]: f\"{ARCHIVE_HC}/{x}\" for x in HC_lists}\n",
    "SZ_subjects = {re.findall('(?<=A)[0-9]*', x)[0]: f\"{ARCHIVE_SZ}/{x}\" for x in SZ_lists}"
   ]
  },
  {
   "cell_type": "code",
   "execution_count": 203,
   "metadata": {},
   "outputs": [
    {
     "name": "stdout",
     "output_type": "stream",
     "text": [
      "00022810(o) 00022915(o) 00036555(o) 00024160(o) 00023800(o) 00037318(o) 00023866(o) 00023337(o) 00036049(o) 00023120(o) 00036897(o) 00022835(o) 00022837(o) 00023095(o) 00024446(o) 00035751(o) 00023330(o) 00027787(o) 00036844(o) "
     ]
    }
   ],
   "source": [
    "for sub in missing: \n",
    "    for cond_folder in [HC_subjects, SZ_subjects]: \n",
    "        if sub in cond_folder: \n",
    "            fp = cond_folder[sub]\n",
    "            fn = fp.split('/')[-1]\n",
    "            cnd = 'HC'\n",
    "            result = process_file(fp, fn, cnd) \n",
    "\n",
    "            for x in result: \n",
    "                df.loc[len(df)+1] = x                "
   ]
  },
  {
   "cell_type": "markdown",
   "metadata": {},
   "source": [
    "## Check for Duplicates\n",
    "let's check if there are only one entry per subnum x side. If there are more than one, let's confirm that numbers are the same. If numbers are the same, only leave one."
   ]
  },
  {
   "cell_type": "code",
   "execution_count": 140,
   "metadata": {},
   "outputs": [],
   "source": [
    "entry_counts = df.groupby(['subnum', 'tract', 'side']).subnum.count().unstack()"
   ]
  },
  {
   "cell_type": "code",
   "execution_count": 142,
   "metadata": {},
   "outputs": [],
   "source": [
    "dupes = list(entry_counts[(entry_counts.L > 1) | (entry_counts.R > 1) ].reset_index().subnum.values)"
   ]
  },
  {
   "cell_type": "code",
   "execution_count": 144,
   "metadata": {},
   "outputs": [
    {
     "data": {
      "text/html": [
       "<div>\n",
       "<style scoped>\n",
       "    .dataframe tbody tr th:only-of-type {\n",
       "        vertical-align: middle;\n",
       "    }\n",
       "\n",
       "    .dataframe tbody tr th {\n",
       "        vertical-align: top;\n",
       "    }\n",
       "\n",
       "    .dataframe thead th {\n",
       "        text-align: right;\n",
       "    }\n",
       "</style>\n",
       "<table border=\"1\" class=\"dataframe\">\n",
       "  <thead>\n",
       "    <tr style=\"text-align: right;\">\n",
       "      <th></th>\n",
       "      <th>subnum</th>\n",
       "      <th>admin</th>\n",
       "      <th>condition</th>\n",
       "      <th>tract</th>\n",
       "      <th>datetime_extracted</th>\n",
       "      <th>side</th>\n",
       "      <th>note</th>\n",
       "      <th>track_count</th>\n",
       "      <th>voxel_count</th>\n",
       "      <th>mean_length</th>\n",
       "      <th>...</th>\n",
       "      <th>se_angtrk</th>\n",
       "      <th>mean_AD</th>\n",
       "      <th>se_AD</th>\n",
       "      <th>mean_FA</th>\n",
       "      <th>se_FA</th>\n",
       "      <th>mean_MD</th>\n",
       "      <th>se_MD</th>\n",
       "      <th>mean_RD</th>\n",
       "      <th>se_RD</th>\n",
       "      <th>yr_scan</th>\n",
       "    </tr>\n",
       "  </thead>\n",
       "  <tbody>\n",
       "    <tr>\n",
       "      <th>195</th>\n",
       "      <td>00007409</td>\n",
       "      <td>HW</td>\n",
       "      <td>HC</td>\n",
       "      <td>FAT</td>\n",
       "      <td>2020-11-23 21:40:52</td>\n",
       "      <td>L</td>\n",
       "      <td>(w both FAT)</td>\n",
       "      <td>48</td>\n",
       "      <td>357</td>\n",
       "      <td>79.6042</td>\n",
       "      <td>...</td>\n",
       "      <td>4.3247</td>\n",
       "      <td>1.1193</td>\n",
       "      <td>0.1728</td>\n",
       "      <td>0.4472</td>\n",
       "      <td>0.1490</td>\n",
       "      <td>0.7388</td>\n",
       "      <td>0.0982</td>\n",
       "      <td>0.5485</td>\n",
       "      <td>0.1366</td>\n",
       "      <td>2011</td>\n",
       "    </tr>\n",
       "    <tr>\n",
       "      <th>199</th>\n",
       "      <td>00007409</td>\n",
       "      <td>HW</td>\n",
       "      <td>HC</td>\n",
       "      <td>FAT</td>\n",
       "      <td>2020-11-23 21:34:14</td>\n",
       "      <td>L</td>\n",
       "      <td>(w both UF)</td>\n",
       "      <td>70</td>\n",
       "      <td>383</td>\n",
       "      <td>76.6000</td>\n",
       "      <td>...</td>\n",
       "      <td>4.2396</td>\n",
       "      <td>1.1071</td>\n",
       "      <td>0.1785</td>\n",
       "      <td>0.4398</td>\n",
       "      <td>0.1559</td>\n",
       "      <td>0.7356</td>\n",
       "      <td>0.1015</td>\n",
       "      <td>0.5498</td>\n",
       "      <td>0.1408</td>\n",
       "      <td>2011</td>\n",
       "    </tr>\n",
       "    <tr>\n",
       "      <th>361</th>\n",
       "      <td>00007409</td>\n",
       "      <td>HW</td>\n",
       "      <td>HC</td>\n",
       "      <td>UF</td>\n",
       "      <td>2020-11-23 21:40:52</td>\n",
       "      <td>L</td>\n",
       "      <td>(w both FAT)</td>\n",
       "      <td>0</td>\n",
       "      <td>0</td>\n",
       "      <td>0.0000</td>\n",
       "      <td>...</td>\n",
       "      <td>0.0000</td>\n",
       "      <td>0.0000</td>\n",
       "      <td>0.0000</td>\n",
       "      <td>0.0000</td>\n",
       "      <td>0.0000</td>\n",
       "      <td>0.0000</td>\n",
       "      <td>0.0000</td>\n",
       "      <td>0.0000</td>\n",
       "      <td>0.0000</td>\n",
       "      <td>2011</td>\n",
       "    </tr>\n",
       "    <tr>\n",
       "      <th>367</th>\n",
       "      <td>00007409</td>\n",
       "      <td>HW</td>\n",
       "      <td>HC</td>\n",
       "      <td>UF</td>\n",
       "      <td>2020-11-23 21:34:14</td>\n",
       "      <td>L</td>\n",
       "      <td>(w both UF)</td>\n",
       "      <td>32</td>\n",
       "      <td>281</td>\n",
       "      <td>81.8437</td>\n",
       "      <td>...</td>\n",
       "      <td>4.7542</td>\n",
       "      <td>1.1032</td>\n",
       "      <td>0.1324</td>\n",
       "      <td>0.3423</td>\n",
       "      <td>0.1323</td>\n",
       "      <td>0.7967</td>\n",
       "      <td>0.0814</td>\n",
       "      <td>0.6434</td>\n",
       "      <td>0.1166</td>\n",
       "      <td>2011</td>\n",
       "    </tr>\n",
       "    <tr>\n",
       "      <th>196</th>\n",
       "      <td>00007409</td>\n",
       "      <td>HW</td>\n",
       "      <td>HC</td>\n",
       "      <td>FAT</td>\n",
       "      <td>2020-11-23 21:40:52</td>\n",
       "      <td>R</td>\n",
       "      <td>(w both FAT)</td>\n",
       "      <td>75</td>\n",
       "      <td>461</td>\n",
       "      <td>81.5733</td>\n",
       "      <td>...</td>\n",
       "      <td>4.9320</td>\n",
       "      <td>1.1180</td>\n",
       "      <td>0.1389</td>\n",
       "      <td>0.4159</td>\n",
       "      <td>0.1170</td>\n",
       "      <td>0.7665</td>\n",
       "      <td>0.0867</td>\n",
       "      <td>0.5907</td>\n",
       "      <td>0.1105</td>\n",
       "      <td>2011</td>\n",
       "    </tr>\n",
       "    <tr>\n",
       "      <th>200</th>\n",
       "      <td>00007409</td>\n",
       "      <td>HW</td>\n",
       "      <td>HC</td>\n",
       "      <td>FAT</td>\n",
       "      <td>2020-11-23 21:34:14</td>\n",
       "      <td>R</td>\n",
       "      <td>(w both UF)</td>\n",
       "      <td>137</td>\n",
       "      <td>778</td>\n",
       "      <td>83.9708</td>\n",
       "      <td>...</td>\n",
       "      <td>5.0190</td>\n",
       "      <td>1.1261</td>\n",
       "      <td>0.1549</td>\n",
       "      <td>0.4150</td>\n",
       "      <td>0.1224</td>\n",
       "      <td>0.7704</td>\n",
       "      <td>0.0905</td>\n",
       "      <td>0.5925</td>\n",
       "      <td>0.1141</td>\n",
       "      <td>2011</td>\n",
       "    </tr>\n",
       "    <tr>\n",
       "      <th>362</th>\n",
       "      <td>00007409</td>\n",
       "      <td>HW</td>\n",
       "      <td>HC</td>\n",
       "      <td>UF</td>\n",
       "      <td>2020-11-23 21:40:52</td>\n",
       "      <td>R</td>\n",
       "      <td>(w both FAT)</td>\n",
       "      <td>217</td>\n",
       "      <td>897</td>\n",
       "      <td>98.4839</td>\n",
       "      <td>...</td>\n",
       "      <td>4.0503</td>\n",
       "      <td>1.2589</td>\n",
       "      <td>0.1755</td>\n",
       "      <td>0.4449</td>\n",
       "      <td>0.1365</td>\n",
       "      <td>0.8220</td>\n",
       "      <td>0.0950</td>\n",
       "      <td>0.6036</td>\n",
       "      <td>0.1312</td>\n",
       "      <td>2011</td>\n",
       "    </tr>\n",
       "    <tr>\n",
       "      <th>368</th>\n",
       "      <td>00007409</td>\n",
       "      <td>HW</td>\n",
       "      <td>HC</td>\n",
       "      <td>UF</td>\n",
       "      <td>2020-11-23 21:34:14</td>\n",
       "      <td>R</td>\n",
       "      <td>(w both UF)</td>\n",
       "      <td>217</td>\n",
       "      <td>897</td>\n",
       "      <td>98.4839</td>\n",
       "      <td>...</td>\n",
       "      <td>4.0503</td>\n",
       "      <td>1.2589</td>\n",
       "      <td>0.1755</td>\n",
       "      <td>0.4449</td>\n",
       "      <td>0.1365</td>\n",
       "      <td>0.8220</td>\n",
       "      <td>0.0950</td>\n",
       "      <td>0.6036</td>\n",
       "      <td>0.1312</td>\n",
       "      <td>2011</td>\n",
       "    </tr>\n",
       "  </tbody>\n",
       "</table>\n",
       "<p>8 rows × 24 columns</p>\n",
       "</div>"
      ],
      "text/plain": [
       "       subnum admin condition tract   datetime_extracted side           note  \\\n",
       "195  00007409    HW        HC   FAT  2020-11-23 21:40:52    L   (w both FAT)   \n",
       "199  00007409    HW        HC   FAT  2020-11-23 21:34:14    L    (w both UF)   \n",
       "361  00007409    HW        HC    UF  2020-11-23 21:40:52    L   (w both FAT)   \n",
       "367  00007409    HW        HC    UF  2020-11-23 21:34:14    L    (w both UF)   \n",
       "196  00007409    HW        HC   FAT  2020-11-23 21:40:52    R   (w both FAT)   \n",
       "200  00007409    HW        HC   FAT  2020-11-23 21:34:14    R    (w both UF)   \n",
       "362  00007409    HW        HC    UF  2020-11-23 21:40:52    R   (w both FAT)   \n",
       "368  00007409    HW        HC    UF  2020-11-23 21:34:14    R    (w both UF)   \n",
       "\n",
       "    track_count voxel_count  mean_length  ...  se_angtrk  mean_AD   se_AD  \\\n",
       "195          48         357      79.6042  ...     4.3247   1.1193  0.1728   \n",
       "199          70         383      76.6000  ...     4.2396   1.1071  0.1785   \n",
       "361           0           0       0.0000  ...     0.0000   0.0000  0.0000   \n",
       "367          32         281      81.8437  ...     4.7542   1.1032  0.1324   \n",
       "196          75         461      81.5733  ...     4.9320   1.1180  0.1389   \n",
       "200         137         778      83.9708  ...     5.0190   1.1261  0.1549   \n",
       "362         217         897      98.4839  ...     4.0503   1.2589  0.1755   \n",
       "368         217         897      98.4839  ...     4.0503   1.2589  0.1755   \n",
       "\n",
       "     mean_FA   se_FA  mean_MD   se_MD  mean_RD   se_RD  yr_scan  \n",
       "195   0.4472  0.1490   0.7388  0.0982   0.5485  0.1366     2011  \n",
       "199   0.4398  0.1559   0.7356  0.1015   0.5498  0.1408     2011  \n",
       "361   0.0000  0.0000   0.0000  0.0000   0.0000  0.0000     2011  \n",
       "367   0.3423  0.1323   0.7967  0.0814   0.6434  0.1166     2011  \n",
       "196   0.4159  0.1170   0.7665  0.0867   0.5907  0.1105     2011  \n",
       "200   0.4150  0.1224   0.7704  0.0905   0.5925  0.1141     2011  \n",
       "362   0.4449  0.1365   0.8220  0.0950   0.6036  0.1312     2011  \n",
       "368   0.4449  0.1365   0.8220  0.0950   0.6036  0.1312     2011  \n",
       "\n",
       "[8 rows x 24 columns]"
      ]
     },
     "execution_count": 144,
     "metadata": {},
     "output_type": "execute_result"
    }
   ],
   "source": [
    "df[df.subnum.isin(dupes)].sort_values(['subnum', 'side'])"
   ]
  },
  {
   "cell_type": "code",
   "execution_count": null,
   "metadata": {},
   "outputs": [],
   "source": [
    "# TODO: fix the above"
   ]
  },
  {
   "cell_type": "code",
   "execution_count": 205,
   "metadata": {},
   "outputs": [
    {
     "data": {
      "text/plain": [
       "condition  tract\n",
       "HC         FAT      67\n",
       "           UF       63\n",
       "SZ         FAT      61\n",
       "           UF       33\n",
       "Name: subnum, dtype: int64"
      ]
     },
     "execution_count": 205,
     "metadata": {},
     "output_type": "execute_result"
    }
   ],
   "source": [
    "df.groupby(['condition', 'tract']).subnum.nunique()"
   ]
  },
  {
   "cell_type": "markdown",
   "metadata": {},
   "source": [
    "If missing here, we will pull from the previous set. "
   ]
  },
  {
   "cell_type": "markdown",
   "metadata": {},
   "source": [
    "## Check for Zero values\n",
    "Remove zero value rows  \n",
    "Add a column that indicates whether the both side exists or not"
   ]
  },
  {
   "cell_type": "code",
   "execution_count": 227,
   "metadata": {},
   "outputs": [
    {
     "data": {
      "text/plain": [
       "33"
      ]
     },
     "execution_count": 227,
     "metadata": {},
     "output_type": "execute_result"
    }
   ],
   "source": [
    "len(df[df.track_count == 0])"
   ]
  },
  {
   "cell_type": "code",
   "execution_count": 157,
   "metadata": {},
   "outputs": [],
   "source": [
    "clean_df = df[df.track_count != 0]"
   ]
  },
  {
   "cell_type": "code",
   "execution_count": 178,
   "metadata": {},
   "outputs": [],
   "source": [
    "tmp = clean_df.groupby(['subnum', 'tract']).subnum.count().unstack().reset_index()\n",
    "missing_side = list(tmp[tmp.FAT == 1].subnum)"
   ]
  },
  {
   "cell_type": "code",
   "execution_count": null,
   "metadata": {},
   "outputs": [],
   "source": [
    "clean_df['missing_side'] = np.where(clean_df.subnum.isin(missing_side), 1, 0)"
   ]
  },
  {
   "cell_type": "code",
   "execution_count": 194,
   "metadata": {},
   "outputs": [],
   "source": [
    "cldf = clean_df[clean_df.missing_side == 0]"
   ]
  },
  {
   "cell_type": "markdown",
   "metadata": {},
   "source": [
    "## Check for Outliers\n",
    "Check per group per side per condition distribution\n"
   ]
  },
  {
   "cell_type": "code",
   "execution_count": 216,
   "metadata": {},
   "outputs": [],
   "source": [
    "measures = ['track_count', 'voxel_count', 'mean_length']"
   ]
  },
  {
   "cell_type": "code",
   "execution_count": 256,
   "metadata": {},
   "outputs": [
    {
     "data": {
      "image/png": "[encoded data removed]",
      "text/plain": [
       "<Figure size 432x288 with 1 Axes>"
      ]
     },
     "metadata": {
      "needs_background": "light"
     },
     "output_type": "display_data"
    },
    {
     "data": {
      "image/png": "[encoded data removed]",
      "text/plain": [
       "<Figure size 432x288 with 1 Axes>"
      ]
     },
     "metadata": {
      "needs_background": "light"
     },
     "output_type": "display_data"
    },
    {
     "data": {
      "image/png": "[encoded data removed]",
      "text/plain": [
       "<Figure size 432x288 with 1 Axes>"
      ]
     },
     "metadata": {
      "needs_background": "light"
     },
     "output_type": "display_data"
    },
    {
     "data": {
      "image/png": "[encoded data removed]",
      "text/plain": [
       "<Figure size 432x288 with 1 Axes>"
      ]
     },
     "metadata": {
      "needs_background": "light"
     },
     "output_type": "display_data"
    },
    {
     "data": {
      "image/png": "[encoded data removed]",
      "text/plain": [
       "<Figure size 432x288 with 1 Axes>"
      ]
     },
     "metadata": {
      "needs_background": "light"
     },
     "output_type": "display_data"
    },
    {
     "data": {
      "image/png": "[encoded data removed]",
      "text/plain": [
       "<Figure size 432x288 with 1 Axes>"
      ]
     },
     "metadata": {
      "needs_background": "light"
     },
     "output_type": "display_data"
    },
    {
     "data": {
      "image/png": "[encoded data removed]",
      "text/plain": [
       "<Figure size 432x288 with 1 Axes>"
      ]
     },
     "metadata": {
      "needs_background": "light"
     },
     "output_type": "display_data"
    },
    {
     "data": {
      "image/png": "[encoded data removed]",
      "text/plain": [
       "<Figure size 432x288 with 1 Axes>"
      ]
     },
     "metadata": {
      "needs_background": "light"
     },
     "output_type": "display_data"
    },
    {
     "data": {
      "image/png": "[encoded data removed]",
      "text/plain": [
       "<Figure size 432x288 with 1 Axes>"
      ]
     },
     "metadata": {
      "needs_background": "light"
     },
     "output_type": "display_data"
    },
    {
     "data": {
      "image/png": "[encoded data removed]",
      "text/plain": [
       "<Figure size 432x288 with 1 Axes>"
      ]
     },
     "metadata": {
      "needs_background": "light"
     },
     "output_type": "display_data"
    },
    {
     "data": {
      "image/png": "[encoded data removed]",
      "text/plain": [
       "<Figure size 432x288 with 1 Axes>"
      ]
     },
     "metadata": {
      "needs_background": "light"
     },
     "output_type": "display_data"
    },
    {
     "data": {
      "image/png": "[encoded data removed]",
      "text/plain": [
       "<Figure size 432x288 with 1 Axes>"
      ]
     },
     "metadata": {
      "needs_background": "light"
     },
     "output_type": "display_data"
    },
    {
     "data": {
      "image/png": "[encoded data removed]",
      "text/plain": [
       "<Figure size 432x288 with 1 Axes>"
      ]
     },
     "metadata": {
      "needs_background": "light"
     },
     "output_type": "display_data"
    },
    {
     "data": {
      "image/png": "[encoded data removed]",
      "text/plain": [
       "<Figure size 432x288 with 1 Axes>"
      ]
     },
     "metadata": {
      "needs_background": "light"
     },
     "output_type": "display_data"
    },
    {
     "data": {
      "image/png": "[encoded data removed]",
      "text/plain": [
       "<Figure size 432x288 with 1 Axes>"
      ]
     },
     "metadata": {
      "needs_background": "light"
     },
     "output_type": "display_data"
    },
    {
     "data": {
      "image/png": "[encoded data removed]",
      "text/plain": [
       "<Figure size 432x288 with 1 Axes>"
      ]
     },
     "metadata": {
      "needs_background": "light"
     },
     "output_type": "display_data"
    },
    {
     "data": {
      "image/png": "[encoded data removed]",
      "text/plain": [
       "<Figure size 432x288 with 1 Axes>"
      ]
     },
     "metadata": {
      "needs_background": "light"
     },
     "output_type": "display_data"
    },
    {
     "data": {
      "image/png": "[encoded data removed]",
      "text/plain": [
       "<Figure size 432x288 with 1 Axes>"
      ]
     },
     "metadata": {
      "needs_background": "light"
     },
     "output_type": "display_data"
    },
    {
     "data": {
      "image/png": "[encoded data removed]",
      "text/plain": [
       "<Figure size 432x288 with 1 Axes>"
      ]
     },
     "metadata": {
      "needs_background": "light"
     },
     "output_type": "display_data"
    },
    {
     "data": {
      "image/png": "[encoded data removed]",
      "text/plain": [
       "<Figure size 432x288 with 1 Axes>"
      ]
     },
     "metadata": {
      "needs_background": "light"
     },
     "output_type": "display_data"
    },
    {
     "data": {
      "image/png": "[encoded data removed]",
      "text/plain": [
       "<Figure size 432x288 with 1 Axes>"
      ]
     },
     "metadata": {
      "needs_background": "light"
     },
     "output_type": "display_data"
    },
    {
     "data": {
      "image/png": "[encoded data removed]",
      "text/plain": [
       "<Figure size 432x288 with 1 Axes>"
      ]
     },
     "metadata": {
      "needs_background": "light"
     },
     "output_type": "display_data"
    },
    {
     "data": {
      "image/png": "[encoded data removed]",
      "text/plain": [
       "<Figure size 432x288 with 1 Axes>"
      ]
     },
     "metadata": {
      "needs_background": "light"
     },
     "output_type": "display_data"
    },
    {
     "data": {
      "image/png": "[encoded data removed]",
      "text/plain": [
       "<Figure size 432x288 with 1 Axes>"
      ]
     },
     "metadata": {
      "needs_background": "light"
     },
     "output_type": "display_data"
    }
   ],
   "source": [
    "for measure in measures:\n",
    "    for TRACT in TRACTS:\n",
    "        for COND in CONDS:\n",
    "            for SIDE in SIDES:\n",
    "                sub = cldf[(cldf.condition == COND) & (cldf.tract == TRACT) & (cldf.side == SIDE)]\n",
    "                sns.boxplot(x = measure, data = sub)\n",
    "                plt.title(f'''{TRACT} | {COND} | {SIDE} | {len(sub)} subjects | {measure}''')\n",
    "                plt.show()"
   ]
  },
  {
   "cell_type": "code",
   "execution_count": null,
   "metadata": {},
   "outputs": [],
   "source": []
  }
 ],
 "metadata": {
  "kernelspec": {
   "display_name": "Python 3",
   "language": "python",
   "name": "python3"
  },
  "language_info": {
   "codemirror_mode": {
    "name": "ipython",
    "version": 3
   },
   "file_extension": ".py",
   "mimetype": "text/x-python",
   "name": "python",
   "nbconvert_exporter": "python",
   "pygments_lexer": "ipython3",
   "version": "3.7.4"
  }
 },
 "nbformat": 4,
 "nbformat_minor": 4
}
